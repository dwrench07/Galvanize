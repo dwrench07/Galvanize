{
 "cells": [
  {
   "cell_type": "code",
   "execution_count": 1,
   "metadata": {
    "collapsed": true
   },
   "outputs": [
    {
     "name": "stdout",
     "output_type": "stream",
     "text": [
      "36\n"
     ]
    }
   ],
   "source": [
    "import math\n",
    "import itertools\n",
    "\n",
    "\n",
    "# dogs = list(('Abbott', 'Bertie', 'Costello', 'Pickles', 'Shasta', 'Max'))\n",
    "cards = [1, 2, 2, 2, 4, 4, 6, 7, 9]\n",
    "\n",
    "# print(math.factorial(len(dogs)))\n",
    "# print(len(list(itertools.permutations(dogs))))\n",
    "# print(len(list(itertools.permutations(dogs, 6))))\n",
    "# print(len(list(itertools.permutations(dogs, r=3))))\n",
    "print(len(list(itertools.combinations(cards, r=2))))"
   ]
  },
  {
   "cell_type": "code",
   "execution_count": 29,
   "metadata": {},
   "outputs": [
    {
     "name": "stdout",
     "output_type": "stream",
     "text": [
      "Pairs:\n(1, 2)\nPairs:\n(1, 2)\nPairs:\n(1, 2)\nPairs:\n(1, 4)\nPairs:\n(1, 4)\nPairs:\n(1, 6)\nPairs:\n(1, 7)\nPairs:\n(1, 9)\nPairs:\n(2, 2)\nPairs:\n(2, 2)\nPairs:\n(2, 4)\nPairs:\n(2, 4)\nPairs:\n(2, 6)\nPairs:\n(2, 7)\nPairs:\n(2, 9)\n11 Sums:\n(2, 9)\nPairs:\n(2, 2)\nPairs:\n(2, 4)\nPairs:\n(2, 4)\nPairs:\n(2, 6)\nPairs:\n(2, 7)\nPairs:\n(2, 9)\n11 Sums:\n(2, 9)\nPairs:\n(2, 4)\nPairs:\n(2, 4)\nPairs:\n(2, 6)\nPairs:\n(2, 7)\nPairs:\n(2, 9)\n11 Sums:\n(2, 9)\nPairs:\n(4, 4)\nPairs:\n(4, 6)\nPairs:\n(4, 7)\n11 Sums:\n(4, 7)\nPairs:\n(4, 9)\nPairs:\n(4, 6)\nPairs:\n(4, 7)\n11 Sums:\n(4, 7)\nPairs:\n(4, 9)\nPairs:\n(6, 7)\nPairs:\n(6, 9)\nPairs:\n(7, 9)\nSumof 11 Probability:\n0.1388888888888889\n"
     ]
    }
   ],
   "source": [
    "sum_11 = []\n",
    "pairs = []\n",
    "for pair in itertools.combinations(cards, r=2):\n",
    "    pairs.append(pair)\n",
    "    print(\"Pairs:\")\n",
    "    print(pair)\n",
    "    if sum(pair) == 11:\n",
    "        print(\"11 Sums:\")\n",
    "        print(pair)\n",
    "        sum_11.append(pair)\n",
    "\n",
    "print(\"Sum of 11 Probability:\")\n",
    "print(len(sum_11) / len(list(pairs)))"
   ]
  },
  {
   "cell_type": "code",
   "execution_count": 2,
   "metadata": {},
   "outputs": [
    {
     "ename": "NameError",
     "evalue": "name 'stats' is not defined",
     "traceback": [
      "\u001b[0;31m---------------------------------------------------------------------------\u001b[0m",
      "\u001b[0;31mNameError\u001b[0m                                 Traceback (most recent call last)",
      "\u001b[0;32m<ipython-input-2-392112913da3>\u001b[0m in \u001b[0;36m<module>\u001b[0;34m()\u001b[0m\n\u001b[1;32m      2\u001b[0m \u001b[0;34m\u001b[0m\u001b[0m\n\u001b[1;32m      3\u001b[0m \u001b[0;34m\u001b[0m\u001b[0m\n\u001b[0;32m----> 4\u001b[0;31m \u001b[0mstats\u001b[0m\u001b[0;34m.\u001b[0m\u001b[0mb\u001b[0m\u001b[0;34m\u001b[0m\u001b[0m\n\u001b[0m",
      "\u001b[0;31mNameError\u001b[0m: name 'stats' is not defined"
     ],
     "output_type": "error"
    }
   ],
   "source": [
    "from scipy.stats import binom\n",
    "\n",
    "\n",
    "stats.b"
   ]
  },
  {
   "cell_type": "code",
   "execution_count": null,
   "metadata": {},
   "outputs": [],
   "source": [
    ""
   ]
  }
 ],
 "metadata": {
  "kernelspec": {
   "display_name": "Python 2",
   "language": "python",
   "name": "python2"
  },
  "language_info": {
   "codemirror_mode": {
    "name": "ipython",
    "version": 2.0
   },
   "file_extension": ".py",
   "mimetype": "text/x-python",
   "name": "python",
   "nbconvert_exporter": "python",
   "pygments_lexer": "ipython2",
   "version": "2.7.6"
  }
 },
 "nbformat": 4,
 "nbformat_minor": 0
}