{
 "cells": [
  {
   "cell_type": "markdown",
   "metadata": {
    "collapsed": true
   },
   "source": [
    "### Spot the Differences\n",
    "Without running the scripts, can you tell what the output will be? If you have some Python or programming background, this section should take very little time."
   ]
  },
  {
   "cell_type": "markdown",
   "metadata": {},
   "source": [
    "#### For Loops"
   ]
  },
  {
   "cell_type": "code",
   "execution_count": null,
   "metadata": {},
   "outputs": [],
   "source": [
    "# Script 1 - Is going to sequentially print an item in the list on each \n",
    "# iteration until the end of the list is reached.\n",
    "list_num = [1,2,3] \n",
    "for num in list_num:\n",
    "    total = 0 \n",
    "    total += num \n",
    "    print(total)"
   ]
  },
  {
   "cell_type": "code",
   "execution_count": null,
   "metadata": {},
   "outputs": [],
   "source": [
    "# Script 2 - Prints the cumulative sum of the list for each iteration.\n",
    "list_num = [1,2,3]\n",
    "total = 0\n",
    "for num in list_num: \n",
    "    total += num\n",
    "    print(total)"
   ]
  },
  {
   "cell_type": "code",
   "execution_count": null,
   "metadata": {},
   "outputs": [],
   "source": [
    "# Script 3 - Print the total of the list AFTER the loop sums the list within \n",
    "# itself.\n",
    "list_num = [1,2,3]\n",
    "total = 0\n",
    "for num in list_num:\n",
    "    total += num\n",
    "print(total)"
   ]
  },
  {
   "cell_type": "markdown",
   "metadata": {},
   "source": [
    "#### For Loops in Functions"
   ]
  },
  {
   "cell_type": "code",
   "execution_count": 12,
   "metadata": {
    "collapsed": true
   },
   "outputs": [
    {
     "name": "stdout",
     "output_type": "stream",
     "text": [
      "cat\n"
     ]
    }
   ],
   "source": [
    "# Script 1 - It will append the provided list to the output, BUT will only \n",
    "# return the first item in the list as a string (return is inside loop), \n",
    "# and NOT print the \n",
    "# output.\n",
    "def my_function(my_list):\n",
    "    output = []\n",
    "    for item in my_list:\n",
    "        output.append(item)\n",
    "        return item\n",
    "    \n",
    "print(my_function(['cat', 'bad', 'dad']))"
   ]
  },
  {
   "cell_type": "code",
   "execution_count": 13,
   "metadata": {
    "collapsed": false
   },
   "outputs": [
    {
     "name": "stdout",
     "output_type": "stream",
     "text": [
      "['cat']\n"
     ]
    }
   ],
   "source": [
    "# Script 2 - Print the output list as a list, but return still inside loop\n",
    "def my_function2(my_list):\n",
    "    output = []\n",
    "    for item in my_list:\n",
    "        output.append(item)\n",
    "        return output\n",
    "    \n",
    "print(my_function2(['cat', 'bad', 'dad']))"
   ]
  },
  {
   "cell_type": "code",
   "execution_count": 14,
   "metadata": {},
   "outputs": [
    {
     "name": "stdout",
     "output_type": "stream",
     "text": [
      "['cat', 'bad', 'dad']\n"
     ]
    }
   ],
   "source": [
    "# Script 3 - Print the output list. Return outside loop\n",
    "def my_function3(my_list):\n",
    "    output = []\n",
    "    for item in my_list:\n",
    "        output.append(item)\n",
    "    return output\n",
    "    \n",
    "print(my_function3(['cat', 'bad', 'dad']))"
   ]
  },
  {
   "cell_type": "code",
   "execution_count": 15,
   "metadata": {},
   "outputs": [
    {
     "name": "stdout",
     "output_type": "stream",
     "text": [
      "['dad']\n"
     ]
    }
   ],
   "source": [
    "# Script 4 - Prints last item, because output list is instantiated inside \n",
    "# and append essentially overwrites before returning\n",
    "def my_function4(my_list):\n",
    "    for item in my_list:\n",
    "        output = []\n",
    "        output.append(item)\n",
    "    return output\n",
    "    \n",
    "print(my_function4(['cat', 'bad', 'dad']))"
   ]
  },
  {
   "cell_type": "code",
   "execution_count": 16,
   "metadata": {},
   "outputs": [
    {
     "name": "stdout",
     "output_type": "stream",
     "text": [
      "['cat', 'bad', 'dad']\n['cat', 'bad', 'dad']\n"
     ]
    }
   ],
   "source": [
    "# Script 5 -  Prints list twice as expected\n",
    "def my_function5(my_list):\n",
    "    output = []\n",
    "    for item in my_list:\n",
    "        output.append(item)\n",
    "    return output\n",
    "    \n",
    "print(my_function5(['cat', 'bad', 'dad']))\n",
    "print(my_function5(['cat', 'bad', 'dad']))"
   ]
  },
  {
   "cell_type": "code",
   "execution_count": 17,
   "metadata": {},
   "outputs": [
    {
     "name": "stdout",
     "output_type": "stream",
     "text": [
      "['cat', 'bad', 'dad']\n['cat', 'bad', 'dad', 'cat', 'bad', 'dad']\n"
     ]
    }
   ],
   "source": [
    "# Script 6 -  Prints list twice as expected ONCE, then again but appending to\n",
    "#  original list since output is global and not ocal scope.\n",
    "output = []\n",
    "def my_function6(my_list):\n",
    "    for item in my_list:\n",
    "        output.append(item)\n",
    "    return output\n",
    "    \n",
    "print(my_function6(['cat', 'bad', 'dad']))\n",
    "print(my_function6(['cat', 'bad', 'dad']))"
   ]
  },
  {
   "cell_type": "markdown",
   "metadata": {},
   "source": [
    "### Make a Function\n",
    "Functions, blocks of reusable code, keep your code modular, well organized and easily maintainable. You should try to keep your code organized in functions. Take a look at each of the following snippets of code and organize them into functions."
   ]
  },
  {
   "cell_type": "markdown",
   "metadata": {},
   "source": [
    "1. We want a function that takes a list of numbers and returns that list where 10 was added to each number.\n",
    "2. We want a function that takes in a list of strings and returns the list with the length of the words."
   ]
  },
  {
   "cell_type": "code",
   "execution_count": 19,
   "metadata": {},
   "outputs": [
    {
     "data": {
      "text/plain": [
       "[11, 13, 15]"
      ]
     },
     "execution_count": 19,
     "metadata": {},
     "output_type": "execute_result"
    }
   ],
   "source": [
    "# Function 1 - Using a list comprehension, would not use function in first \n",
    "# place maybe and simply variale assignment with list comp.\n",
    "def add_10(my_list):\n",
    "    return [x + 10 for x in my_list]\n",
    "\n",
    "add_10([1, 3, 5])"
   ]
  },
  {
   "cell_type": "code",
   "execution_count": 20,
   "metadata": {},
   "outputs": [
    {
     "data": {
      "text/plain": [
       "[9, 5, 8]"
      ]
     },
     "execution_count": 20,
     "metadata": {},
     "output_type": "execute_result"
    }
   ],
   "source": [
    "# Function 2 - \n",
    "def count_word_length(my_list):\n",
    "    return [len(word) for word in my_list]\n",
    "\n",
    "count_word_length(['Something', 'to be', 'counted.'])"
   ]
  },
  {
   "cell_type": "markdown",
   "metadata": {},
   "source": [
    "### More Adbvanced Python Challenges\n",
    "Practice, practice, practice: we encourage you to work through these challenges."
   ]
  },
  {
   "cell_type": "markdown",
   "metadata": {},
   "source": [
    "#### Challenge 1\n",
    "Write a function that looks at the number of times given letters appear in a document. The output should be in a dictionary."
   ]
  },
  {
   "cell_type": "code",
   "execution_count": 35,
   "metadata": {},
   "outputs": [],
   "source": [
    "from collections import Counter\n",
    "\n",
    "\n",
    "def letter_counter(in_file):\n",
    "    with open(in_file, 'r') as f:\n",
    "        text = f.read()\n",
    "        letter_counts = Counter(text)\n",
    "\n",
    "    return letter_counts"
   ]
  },
  {
   "cell_type": "markdown",
   "metadata": {},
   "source": [
    "#### Challenge 2\n",
    "Write a function that removes one occurrence of a given item from a list. Do not use methods .pop() or .remove()! If the item is not present in the list, output should be ‘The item is not in the list’."
   ]
  },
  {
   "cell_type": "code",
   "execution_count": 52,
   "metadata": {},
   "outputs": [
    {
     "name": "stdout",
     "output_type": "stream",
     "text": [
      "['Fish', 2, 'Fish', 'Blue', 'Fish']\n"
     ]
    }
   ],
   "source": [
    "my_list = [1, 'Fish', 2, 'Fish', 'Blue', 'Fish']\n",
    "\n",
    "def remove_item(item):\n",
    "    if item not in my_list:\n",
    "        print('The item: {}, is not in the list'.format(item))\n",
    "    else:\n",
    "        # Could add for loop, or list comp as this only deletes first found \n",
    "        # instance, and is case sensitive\n",
    "        idx = my_list.index(item)\n",
    "        del my_list[idx]\n",
    "        print(my_list)\n",
    "        \n",
    "remove_item(1)"
   ]
  },
  {
   "cell_type": "markdown",
   "metadata": {},
   "source": [
    "#### Challenge 3\n",
    "The simple substitution cipher basically consists of substituting every plaintext character for a different ciphertext character. The following is an example of one possible cipher from http://practicalcryptography. com/ciphers/simple-substitution-cipher/:\n",
    "\t* Plain alphabet : abcdefghijklmnopqrstuvwxyz \n",
    "\t* cipher alphabet: phqgiumeaylnofdxjkrcvstzwb"
   ]
  },
  {
   "cell_type": "code",
   "execution_count": 5,
   "metadata": {},
   "outputs": [
    {
     "ename": "NameError",
     "evalue": "name 'to_list' is not defined",
     "traceback": [
      "\u001b[0;31m---------------------------------------------------------------------------\u001b[0m",
      "\u001b[0;31mNameError\u001b[0m                                 Traceback (most recent call last)",
      "\u001b[0;32m<ipython-input-5-41f714633980>\u001b[0m in \u001b[0;36m<module>\u001b[0;34m()\u001b[0m\n\u001b[1;32m      1\u001b[0m \u001b[0;32mimport\u001b[0m \u001b[0mrandom\u001b[0m\u001b[0;34m\u001b[0m\u001b[0m\n\u001b[1;32m      2\u001b[0m \u001b[0;34m\u001b[0m\u001b[0m\n\u001b[0;32m----> 3\u001b[0;31m \u001b[0mplain_text_alpha\u001b[0m \u001b[0;34m=\u001b[0m \u001b[0mto_list\u001b[0m\u001b[0;34m(\u001b[0m\u001b[0;34m'abcdefghijklmnopqrstuvwxyz'\u001b[0m\u001b[0;34m)\u001b[0m\u001b[0;34m\u001b[0m\u001b[0m\n\u001b[0m\u001b[1;32m      4\u001b[0m \u001b[0mcipher_text_alpha\u001b[0m \u001b[0;34m=\u001b[0m \u001b[0mrandom\u001b[0m\u001b[0;34m.\u001b[0m\u001b[0mshuffle\u001b[0m\u001b[0;34m(\u001b[0m\u001b[0mplain_text_alpha\u001b[0m\u001b[0;34m)\u001b[0m\u001b[0;34m\u001b[0m\u001b[0m\n\u001b[1;32m      5\u001b[0m \u001b[0;34m\u001b[0m\u001b[0m\n",
      "\u001b[0;31mNameError\u001b[0m: name 'to_list' is not defined"
     ],
     "output_type": "error"
    }
   ],
   "source": [
    "import random\n",
    "\n",
    "plain_text_alpha = list('abcdefghijklmnopqrstuvwxyz')\n",
    "cipher_text_alpha = random.shuffle(plain_text_alpha)\n",
    "\n",
    "print('Plain text: {}'.format(plain_text_alpha))\n",
    "print('Cipher text: {}'.format(cipher_text_alpha))"
   ]
  },
  {
   "cell_type": "markdown",
   "metadata": {},
   "source": [
    "#### Challenge 4\n",
    "Implement a function that counts the number of isograms in a list of strings.\n",
    "\t* An isogram is a word that has no repeating letters, consecutive or non-consecutive.\n",
    "\t* Assume the empty string is an isogram and that the function should be case insensitive."
   ]
  },
  {
   "cell_type": "code",
   "execution_count": 6,
   "metadata": {},
   "outputs": [],
   "source": [
    "list_of_words = ['some', 'not', 'common']\n",
    "\n",
    "\n",
    "def count_isogram(list_of_words):\n",
    "    iso_grams = []\n",
    "    for word in list_of_words:\n",
    "        word.lower()\n",
    "        for char in word:\n",
    "            if word.count(char) < 1:\n",
    "                iso_grams.append(word)\n",
    "\n",
    "                # return [iso_gram for char in word if char.count(char) > 1 for word.lower()\n",
    "                #  in \n",
    "                #         list_of_words]\n",
    "\n",
    "def count_isograms(list_of_words):\n",
    "    \"\"\" Count the number of strings without repeating characters in a list\n",
    "        Parameters\n",
    "        -----------\n",
    "        list_of_words: list of strings\n",
    "        Returns\n",
    "        -------\n",
    "        count of isograms (as integer)\n",
    "    >>>count_isograms(['conduct', 'letter', 'contract', 'hours', 'interview']) 1\n",
    "    \"\"\"\n",
    "pass"
   ]
  },
  {
   "cell_type": "markdown",
   "metadata": {},
   "source": [
    "### Challenge 5\n",
    "Write a function that returns a list of matching items. Items are defined by a tuple with a letter and a number and we consider item 1 to match item 2 if:\n",
    "1. Both their letters are vowels (aeiou), or both are consonnants and, \n",
    "2. The sum of their numbers is a multiple of 3\n",
    "\n",
    "(1,2) contains the same information as (2,1), the output list should only contain one of them."
   ]
  },
  {
   "cell_type": "code",
   "execution_count": null,
   "metadata": {},
   "outputs": [],
   "source": [
    "def matching_pairs(data_list):\n",
    "    \"\"\"\n",
    "    Parameters\n",
    "    ----------\n",
    "    data_list: as list of tuples (letter, number)\n",
    "    Returns\n",
    "    -------\n",
    "    A list of the matching pair referenced by their index (index_A, index_B).\n",
    "    Each pair should appear only once. (A,B) is the same as (B,A)\n",
    "    >>> data = [('a', 4), ('b', 5), ('c', 1), ('d', 3), ('e', 2), ('f',6)]\n",
    "    >>> matching_pairs(data)\n",
    "    [(0,4), (1,2), (3,4)]\n",
    "    \"\"\"\n",
    "pass"
   ]
  }
 ],
 "metadata": {
  "kernelspec": {
   "display_name": "Python 2",
   "language": "python",
   "name": "python2"
  },
  "language_info": {
   "codemirror_mode": {
    "name": "ipython",
    "version": 2.0
   },
   "file_extension": ".py",
   "mimetype": "text/x-python",
   "name": "python",
   "nbconvert_exporter": "python",
   "pygments_lexer": "ipython2",
   "version": "2.7.6"
  }
 },
 "nbformat": 4,
 "nbformat_minor": 0
}