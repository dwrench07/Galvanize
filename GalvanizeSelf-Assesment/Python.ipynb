{
 "cells": [
  {
   "cell_type": "markdown",
   "metadata": {
    "collapsed": true
   },
   "source": [
    "### Spot the Differences\n",
    "Without running the scripts, can you tell what the output will be? If you have some Python or programming background, this section should take very little time."
   ]
  },
  {
   "cell_type": "markdown",
   "metadata": {},
   "source": [
    "#### For Loops"
   ]
  },
  {
   "cell_type": "code",
   "execution_count": null,
   "metadata": {},
   "outputs": [],
   "source": [
    "# Script 1 - Is going to sequentially print an item in the list on each \n",
    "# iteration until the end of the list is reached.\n",
    "list_num = [1,2,3] \n",
    "for num in list_num:\n",
    "    total = 0 \n",
    "    total += num \n",
    "    print(total)"
   ]
  },
  {
   "cell_type": "code",
   "execution_count": null,
   "metadata": {},
   "outputs": [],
   "source": [
    "# Script 2 - Prints the cumulative sum of the list for each iteration.\n",
    "list_num = [1,2,3]\n",
    "total = 0\n",
    "for num in list_num: \n",
    "    total += num\n",
    "    print(total)"
   ]
  },
  {
   "cell_type": "code",
   "execution_count": null,
   "metadata": {},
   "outputs": [],
   "source": [
    "# Script 3 - Print the total of the list AFTER the loop sums the list within \n",
    "# itself.\n",
    "list_num = [1,2,3]\n",
    "total = 0\n",
    "for num in list_num:\n",
    "    total += num\n",
    "print(total)"
   ]
  },
  {
   "cell_type": "markdown",
   "metadata": {},
   "source": [
    "#### For Loops in Functions"
   ]
  },
  {
   "cell_type": "code",
   "execution_count": 12,
   "metadata": {
    "collapsed": true
   },
   "outputs": [
    {
     "name": "stdout",
     "output_type": "stream",
     "text": [
      "cat\n"
     ]
    }
   ],
   "source": [
    "# Script 1 - It will append the provided list to the output, BUT will only \n",
    "# return the first item in the list as a string (return is inside loop), \n",
    "# and NOT print the \n",
    "# output.\n",
    "def my_function(my_list):\n",
    "    output = []\n",
    "    for item in my_list:\n",
    "        output.append(item)\n",
    "        return item\n",
    "    \n",
    "print(my_function(['cat', 'bad', 'dad']))"
   ]
  },
  {
   "cell_type": "code",
   "execution_count": 13,
   "metadata": {
    "collapsed": false
   },
   "outputs": [
    {
     "name": "stdout",
     "output_type": "stream",
     "text": [
      "['cat']\n"
     ]
    }
   ],
   "source": [
    "# Script 2 - Prints the output list as a list, but returns still inside loop\n",
    "def my_function2(my_list):\n",
    "    output = []\n",
    "    for item in my_list:\n",
    "        output.append(item)\n",
    "        return output\n",
    "    \n",
    "print(my_function2(['cat', 'bad', 'dad']))"
   ]
  },
  {
   "cell_type": "code",
   "execution_count": 14,
   "metadata": {},
   "outputs": [
    {
     "name": "stdout",
     "output_type": "stream",
     "text": [
      "['cat', 'bad', 'dad']\n"
     ]
    }
   ],
   "source": [
    "# Script 3 - Prints the output list, returns outside loop\n",
    "def my_function3(my_list):\n",
    "    output = []\n",
    "    for item in my_list:\n",
    "        output.append(item)\n",
    "    return output\n",
    "    \n",
    "print(my_function3(['cat', 'bad', 'dad']))"
   ]
  },
  {
   "cell_type": "code",
   "execution_count": 15,
   "metadata": {},
   "outputs": [
    {
     "name": "stdout",
     "output_type": "stream",
     "text": [
      "['dad']\n"
     ]
    }
   ],
   "source": [
    "# Script 4 - Prints last item, because output list is instantiated inside \n",
    "# and append overwrites before returning.\n",
    "def my_function4(my_list):\n",
    "    for item in my_list:\n",
    "        output = []\n",
    "        output.append(item)\n",
    "    return output\n",
    "\n",
    "print(my_function4(['cat', 'bad', 'dad']))"
   ]
  },
  {
   "cell_type": "code",
   "execution_count": 16,
   "metadata": {},
   "outputs": [
    {
     "name": "stdout",
     "output_type": "stream",
     "text": [
      "['cat', 'bad', 'dad']\n['cat', 'bad', 'dad']\n"
     ]
    }
   ],
   "source": [
    "# Script 5 -  Prints list twice as expected.\n",
    "def my_function5(my_list):\n",
    "    output = []\n",
    "    for item in my_list:\n",
    "        output.append(item)\n",
    "    return output\n",
    "    \n",
    "print(my_function5(['cat', 'bad', 'dad']))\n",
    "print(my_function5(['cat', 'bad', 'dad']))"
   ]
  },
  {
   "cell_type": "code",
   "execution_count": 17,
   "metadata": {},
   "outputs": [
    {
     "name": "stdout",
     "output_type": "stream",
     "text": [
      "['cat', 'bad', 'dad']\n['cat', 'bad', 'dad', 'cat', 'bad', 'dad']\n"
     ]
    }
   ],
   "source": [
    "# Script 6 -  Prints list twice as expected ONCE, then again but appending to\n",
    "#  original list since output is global and not in local scope.\n",
    "output = []\n",
    "\n",
    "\n",
    "def my_function6(my_list):\n",
    "    for item in my_list:\n",
    "        output.append(item)\n",
    "    return output\n",
    "    \n",
    "print(my_function6(['cat', 'bad', 'dad']))\n",
    "print(my_function6(['cat', 'bad', 'dad']))"
   ]
  },
  {
   "cell_type": "markdown",
   "metadata": {},
   "source": [
    "### Make a Function\n",
    "Functions, blocks of reusable code, keep your code modular, well organized and easily maintainable. You should try to keep your code organized in functions. Take a look at each of the following snippets of code and organize them into functions."
   ]
  },
  {
   "cell_type": "markdown",
   "metadata": {},
   "source": [
    "1. We want a function that takes a list of numbers and returns that list where 10 was added to each number.\n",
    "2. We want a function that takes in a list of strings and returns the list with the length of the words."
   ]
  },
  {
   "cell_type": "code",
   "execution_count": 19,
   "metadata": {},
   "outputs": [
    {
     "data": {
      "text/plain": [
       "[11, 13, 15]"
      ]
     },
     "execution_count": 19,
     "metadata": {},
     "output_type": "execute_result"
    }
   ],
   "source": [
    "# Function 1 - Using a list comprehension, would not use function in first \n",
    "# place maybe and simply variable assignment with list comprehension.\n",
    "\n",
    "\n",
    "def add_10(my_list):\n",
    "    return [x + 10 for x in my_list]\n",
    "\n",
    "add_10([1, 3, 5])"
   ]
  },
  {
   "cell_type": "code",
   "execution_count": 17,
   "metadata": {},
   "outputs": [
    {
     "data": {
      "text/plain": [
       "[6, 2, 2, 8]"
      ]
     },
     "execution_count": 17,
     "metadata": {},
     "output_type": "execute_result"
    }
   ],
   "source": [
    "# Function 2 - Since this list of string does not specify each string being a single word, I will pressume it is.\n",
    "\n",
    "\n",
    "def count_word_length(my_list):\n",
    "    return [len(word) for word in my_list]\n",
    "\n",
    "count_word_length(['things', 'to', 'be', 'counted.'])"
   ]
  },
  {
   "cell_type": "markdown",
   "metadata": {},
   "source": [
    "### More Adbvanced Python Challenges\n",
    "Practice, practice, practice: we encourage you to work through these challenges."
   ]
  },
  {
   "cell_type": "markdown",
   "metadata": {},
   "source": [
    "#### Challenge 1\n",
    "Write a function that looks at the number of times given letters appear in a document. The output should be in a dictionary."
   ]
  },
  {
   "cell_type": "code",
   "execution_count": 51,
   "metadata": {},
   "outputs": [
    {
     "name": "stdout",
     "output_type": "stream",
     "text": [
      "Returned Dict? True\n"
     ]
    },
    {
     "data": {
      "text/plain": [
       "{'A': 7940,\n 'B': 7939,\n 'C': 7422,\n 'D': 5223,\n 'E': 7898,\n 'F': 5426,\n 'G': 5093,\n 'I': 7477,\n 'L': 780,\n 'M': 3471,\n 'N': 6445,\n 'O': 4867,\n 'P': 8006,\n 'R': 7832,\n 'S': 3273,\n 'T': 7606,\n 'U': 3012,\n 'W': 7432,\n 'Y': 2590,\n 'a': 8188,\n 'b': 8183,\n 'c': 8126,\n 'd': 8060,\n 'e': 8168,\n 'f': 8184,\n 'g': 8149,\n 'h': 8164,\n 'i': 8191,\n 'j': 6541,\n 'k': 7985,\n 'l': 8155,\n 'm': 8190,\n 'n': 8192,\n 'o': 8193,\n 'p': 8161,\n 'q': 6548,\n 'r': 8194,\n 's': 8170,\n 't': 8189,\n 'u': 8040,\n 'v': 8167,\n 'w': 7573,\n 'x': 8157,\n 'y': 8162,\n 'z': 6557}"
      ]
     },
     "execution_count": 51,
     "metadata": {},
     "output_type": "execute_result"
    }
   ],
   "source": [
    "# Challenge 1 - Besides including a dummy text file reading the notebook proves to capture a lot of non standard \n",
    "# characters. Thus, I tested for alpha.\n",
    "\n",
    "\n",
    "def letter_counter(in_file):\n",
    "    with open(in_file, 'r') as f:\n",
    "        text = f.read()\n",
    "        letters = [letter for letter in text if letter.isalpha()]\n",
    "        letter_counts = {k: v for v, k in enumerate(letters)}\n",
    "        print('Returned Dict? {}'.format(type(letter_counts) is dict))\n",
    "    return letter_counts\n",
    "\n",
    "letter_counter('GalvanizeApplication/Python.ipynb')"
   ]
  },
  {
   "cell_type": "markdown",
   "metadata": {},
   "source": [
    "#### Challenge 2\n",
    "Write a function that removes one occurrence of a given item from a list. Do not use methods .pop() or .remove()! If the item is not present in the list, output should be ‘The item is not in the list’."
   ]
  },
  {
   "cell_type": "code",
   "execution_count": 55,
   "metadata": {},
   "outputs": [
    {
     "name": "stdout",
     "output_type": "stream",
     "text": [
      "[1, 2, 'Fish', 'Blue', 'Fish']\n"
     ]
    }
   ],
   "source": [
    "my_list = [1, 'Fish', 2, 'Fish', 'Blue', 'Fish']\n",
    "\n",
    "\n",
    "def remove_item(item):\n",
    "    if item not in my_list:\n",
    "        print('The item: {}, is not in the list'.format(item))\n",
    "        \n",
    "    else:\n",
    "        # Could add for loop, or list comp as this only deletes first item found, and is case sensitive.\n",
    "        idx = my_list.index(item)\n",
    "        del my_list[idx]\n",
    "        print(my_list)\n",
    "        \n",
    "remove_item('Fish')"
   ]
  },
  {
   "cell_type": "markdown",
   "metadata": {},
   "source": [
    "#### Challenge 3\n",
    "The simple substitution cipher basically consists of substituting every plaintext character for a different ciphertext character. The following is an example of one possible cipher from [practicalcryptography.com](http://practicalcryptography.com/ciphers/simple-substitution-cipher/)\n",
    "\n",
    "\t* Plain alphabet : abcdefghijklmnopqrstuvwxyz \n",
    "\t* cipher alphabet: phqgiumeaylnofdxjkrcvstzwb"
   ]
  },
  {
   "cell_type": "code",
   "execution_count": 78,
   "metadata": {},
   "outputs": [
    {
     "name": "stdout",
     "output_type": "stream",
     "text": [
      "Cipher text: FNNADZENMYNYNATRY\nPlain text: ITTAKESTWOTOTANGO\n"
     ]
    }
   ],
   "source": [
    "from pycipher import SimpleSubstitution\n",
    "\n",
    "\n",
    "cipher = SimpleSubstitution('AJPCZWRLFBDKOTYUQGENHXMIVS')\n",
    "\n",
    "message = \"It takes two to tango\"\n",
    "cipher_text = cipher.encipher(message)\n",
    "\n",
    "print('Cipher text: {}'.format(cipher.encipher(message)))\n",
    "print('Plain text: {}'.format(cipher.decipher(cipher_text)))"
   ]
  },
  {
   "cell_type": "markdown",
   "metadata": {},
   "source": [
    "#### Challenge 4\n",
    "Implement a function that counts the number of isograms in a list of strings.\n",
    "\t* An isogram is a word that has no repeating letters, consecutive or non-consecutive.\n",
    "\t* Assume the empty string is an isogram and that the function should be case insensitive."
   ]
  },
  {
   "cell_type": "code",
   "execution_count": null,
   "metadata": {},
   "outputs": [
    {
     "name": "stdout",
     "output_type": "stream",
     "text": [
      "Count of isograms: 5\n"
     ]
    }
   ],
   "source": [
    "def isograms(list_of_words):\n",
    "    \n",
    "    iso_grams = []\n",
    "    \n",
    "    for word in list_of_words:\n",
    "        if len(word) == len(set(word)):\n",
    "            iso_grams.append(word)\n",
    "    return len(iso_grams)\n",
    "    # OR\n",
    "    # return len([iso_grams.append(word) for word in list_of_words if len(word) == len(set(word.lower()))])\n",
    "\n",
    "\n",
    "print('Count of isograms: {}'.format(isograms(['A', 'lists', 'of', 'words', 'zzz'])))"
   ]
  },
  {
   "cell_type": "markdown",
   "metadata": {},
   "source": [
    "### Challenge 5\n",
    "Write a function that returns a list of matching items. Items are defined by a tuple with a letter and a number and we consider item 1 to match item 2 if:\n",
    "1. Both their letters are vowels (aeiou), or both are consonnants and, \n",
    "2. The sum of their numbers is a multiple of 3\n",
    "\n",
    "(1,2) contains the same information as (2,1), the output list should only contain one of them."
   ]
  },
  {
   "cell_type": "code",
   "execution_count": 119,
   "metadata": {},
   "outputs": [
    {
     "name": "stdout",
     "output_type": "stream",
     "text": [
      "(0, ('a', 1))\n(1, ('a', 1))\n(2, ('b', 2))\n(3, ('b', 3))\n(4, ('c', 1))\n"
     ]
    }
   ],
   "source": [
    "def matching_pairs(data_list):\n",
    "    \n",
    "    for item in enumerate(data_list):\n",
    "        print(item)\n",
    "        # for k, v in item:\n",
    "        #     print('Index: {}, Value: {}'.format(k, v))\n",
    "        \n",
    "matching_pairs([('a', 1), ('a', 1), ('b', 2), ('b', 3), ('c', 1)])"
   ]
  }
 ],
 "metadata": {
  "kernelspec": {
   "display_name": "Python 2",
   "language": "python",
   "name": "python2"
  },
  "language_info": {
   "codemirror_mode": {
    "name": "ipython",
    "version": 2.0
   },
   "file_extension": ".py",
   "mimetype": "text/x-python",
   "name": "python",
   "nbconvert_exporter": "python",
   "pygments_lexer": "ipython2",
   "version": "2.7.6"
  }
 },
 "nbformat": 4,
 "nbformat_minor": 0
}