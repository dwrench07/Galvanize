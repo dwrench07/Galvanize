{
 "cells": [
  {
   "cell_type": "markdown",
   "metadata": {
    "collapsed": true
   },
   "source": [
    "# Probability and Statistics\n",
    "Here is a small selection of exercises to make sure you know how to apply your knowledge in statistics, probability and simple regression. If you want to practice some more, or to practice on exercises with a solution, checkout the links in each section. They come from the recommended resources (Khan Academy, Udacity and the probability review)."
   ]
  },
  {
   "cell_type": "markdown",
   "metadata": {},
   "source": [
    "#### Table of Contents\n",
    "<ol>\n",
    "\t<li><a href=\"#counting\">Counting</a></li>\n",
    "\t\t<ol>\n",
    "\t\t\t<li><a href=\"#permutations\">Permutations</a></li>\n",
    "\t\t\t<li><a href=\"#combinations\">Combinations</a></li>\n",
    "\t\t</ol>\n",
    "\t</li>\n",
    "\t<li><a href=\"#probability\">Probability</a></li>\n",
    "\t\t<ol>\n",
    "\t\t\t<li><a href=\"#cond_prob\">Conditional Probability</a></li>\n",
    "\t\t\t<li><a href=\"#ind_prob\">Independant Probability</a></li>\n",
    "\t\t\t<li><a href=\"#mut_ex\">Mutually Exclusive Events</a></li>\n",
    "\t\t\t<li><a href=\"#bayes\">Baye's Theorem</a></li>\n",
    "        \t</ol>\n",
    "\t</li>\n",
    "\t<li><a href=\"#distributions\">Distributions</a></li>\n",
    "\t\t<ol>\n",
    "\t\t\t<li><a href=\"#binomial\">Bionomial</a></li>\n",
    "\t\t\t<li><a href=\"#geometric\">Geometric</a></li>\n",
    "\t\t\t<li><a href=\"#poisson\">Poisson</a></li>\n",
    "\t\t\t<li><a href=\"#uniform\">Uniform</a></li>\n",
    "\t\t\t<li><a href=\"#normal\">Normal</a></li>\n",
    "\t\t\t<li><a href=\"#exp\">Exponential</a></li>\n",
    "        \t</ol>\n",
    "\t</li>\n",
    "\t<li><a href=\"#descriptive\">Descriptive Statistics</a></li>\n",
    "\t\t<ol>\n",
    "\t\t\t<li><a href=\"#mean\">Mean</a></li>\n",
    "\t\t\t<li><a href=\"#var\">Variance</a></li>\n",
    "\t\t\t<li><a href=\"#std\">Standard Deviation</a></li>\n",
    "\t\t\t<li><a href=\"#range\">Range</a></li>\n",
    "\t\t\t<li><a href=\"#iqr\">IQR</a></li>\n",
    "        \t</ol>\n",
    "\t</li>\n",
    "\t<li><a href=\"#inference\">Inferential Statistics</a></li>\n",
    "\t\t<ol>\n",
    "\t\t\t<li><a href=\"#confidence\">Confidence INtervals</a></li>\n",
    "\t\t\t<li><a href=\"#hypothesis\">Hypothesis Testing</a></li>\n",
    "\t\t\t<li><a href=\"#proportions\">Inference for Proportions of Means</a></li>\n",
    "\t\t\t<li><a href=\"#permutations\">Baye's Theorem</a></li>\n",
    "        \t</ol>\n",
    "\t</li>\n",
    "\t<li><a href=\"#resources\">Resources</a></li>\n",
    "\t\t<ol>\n",
    "\t\t\t<li><a href=\"#\">...</a></li>\n",
    "\t\t\t<li><a href=\"#\">...</a></li>\n",
    "\t\t\t<li><a href=\"#\">...</a></li>\n",
    "\t\t\t<li><a href=\"#\">...</a></li>\n",
    "        \t</ol>\n",
    "\t</li>\n",
    "</ol>\n"
   ]
  },
  {
   "cell_type": "heading",
   "metadata": {},
   "level": 1,
   "source": [
    "##Counting"
   ]
  },
  {
   "cell_type": "heading",
   "metadata": {},
   "level": 2,
   "source": [
    "###Permutations "
   ]
  },
  {
   "cell_type": "markdown",
   "metadata": {},
   "source": [
    "1. How many ways can you arrange the numbers 1, 2, 3, 4 and 5? \n",
    "2. How many ways can you arrange 1, 1, 2, 3, 4?\n",
    "3. How many ways can you arrange two 3s and three 5s?\n",
    "\n",
    "*Some links: http://bit.ly/2iGgrir, http://bit.ly/2jXtFIt*"
   ]
  },
  {
   "cell_type": "code",
   "execution_count": 9,
   "metadata": {},
   "outputs": [
    {
     "name": "stdout",
     "output_type": "stream",
     "text": [
      "Permutations:\n[1, 2, 3, 4, 5] = 120 different ways, with each element as an independent object\n[1, 1, 2, 3, 4] = 24 different ways, taking the max value of given items.\n[3, 3, 5, 5, 5] = 2 different ways, without repeating.\n"
     ]
    }
   ],
   "source": [
    "from math import factorial\n",
    "\n",
    "\n",
    "n = [1, 2, 3, 4, 5]\n",
    "m = [1, 1, 2, 3, 4]\n",
    "k = [3, 3, 5, 5, 5]\n",
    "\n",
    "print('Permutations:')\n",
    "# 1. How many ways can you arrange the numbers 1, 2, 3, 4, and 5? \n",
    "print('{} = {} different ways, with each element as an independent object'.format(n, factorial(len(n))))\n",
    "\n",
    "# 2. How many ways can you arrange 1, 1, 2, 3, 4?\n",
    "print('{} = {} different ways, taking the max value of given items.'.format(m, factorial(max(m))))\n",
    "\n",
    "# 3. How many ways can you arrange two 3s and three 5s?\n",
    "print('{} = {} different ways, without repeating.'.format(k, factorial(max(k) - min(k))))"
   ]
  },
  {
   "cell_type": "heading",
   "metadata": {},
   "level": 2,
   "source": [
    "###Combinations"
   ]
  },
  {
   "cell_type": "markdown",
   "metadata": {},
   "source": [
    "1. How many different poker hands (5 cards) can you have? A deck holds 52 cards.\n",
    "2. There are five flavors office cream: Stracciatella, Mint chocolate chip, Cookies and Cream, Butter Pecan, Pistachio and Pralines and cream. How many three scoop ice-creams can you make if all the scoops must be different flavors?\n",
    "3. Extra Credit: what happens if you can take several scoops of the same flavor? \n",
    "\n",
    "*Some links: http://bit.ly/2iNIXSF, http://bit.ly/2jXlDiI*"
   ]
  },
  {
   "cell_type": "code",
   "execution_count": 10,
   "metadata": {},
   "outputs": [
    {
     "name": "stdout",
     "output_type": "stream",
     "text": [
      "There are 2,598,960.0 possible 5 card hands in a 52 card deck.\nThere are 10 possible 3 ice cream combination from 5 flavors.\nThere are 35 possible 3 ice cream combination from 5 flavors, with repetition.\n"
     ]
    }
   ],
   "source": [
    "from scipy.misc import comb\n",
    "\n",
    "\n",
    "# 1 - \n",
    "print('There are {:2,} possible 5 card hands in a 52 card deck.'.format(comb(52, 5)))\n",
    "\n",
    "# 1 - \n",
    "print('There are {:2,} possible 3 ice cream combination from 5 flavors.'.format(comb(5, 3, exact=True)))\n",
    "\n",
    "# 1 -\n",
    "print('There are {:2,} possible 3 ice cream combination from 5 flavors, with repetition.'.format(comb(\n",
    "                                                                                                        5, \n",
    "                                                                                                        3, \n",
    "                                                                                                        exact=True,\n",
    "                                                                                                        repetition=True)))"
   ]
  },
  {
   "cell_type": "heading",
   "metadata": {},
   "level": 1,
   "source": [
    "#Probability"
   ]
  },
  {
   "cell_type": "markdown",
   "metadata": {},
   "source": [
    "### 2.1 Probability of an event\n",
    "1. In a deck of cards (52 cards), what’s the probability of picking a queen? A heart? Of picking a card that’s not a queen nor a heart?\n",
    "2. If I do not replace the cards, what is the probability of picking 2 kings? 4 diamonds? How do these probabilities evolve if I replace the cards after each draw?\n",
    "\n",
    "*Some links: http://bit.ly/2iNCwyS, http://bit.ly/OtSNH2, http://bit.ly/2j7R4qF*"
   ]
  },
  {
   "cell_type": "markdown",
   "metadata": {},
   "source": [
    "### 2.2 Probability of 2 or more events\n",
    "#### 2.2.1 Conditional probability\n",
    "1. What is the probability that the total of two dice is less than four, knowing that the first die is a 2?\n",
    "2. 90% of candidates to a Web developer position can code both in Javascript and HTML. 70% of these candidates can code in Javascript and 50% can code in HTML. What is the probability that a candidate can code in HTML knowing that he can code in Javascript?\n",
    "\n",
    "*Some links: http://bit.ly/2iGktHi*"
   ]
  },
  {
   "cell_type": "markdown",
   "metadata": {},
   "source": [
    "#### 2.2.2 Independent and dependent events\n",
    "1. Number of kids dressed as pumpkins or ghosts on Halloween night and the amount of candy they received:\n",
    "\n",
    "<pre>\n",
    "```\n",
    "\n",
    "| Amount of Candy | < 10 | 10-20 | 20-30 | 30 < |\n",
    "| --------------- | ---- | ----- | ----- | ---- |\n",
    "| Pumpkins        |  05  |  10   |  60   |  25  |\n",
    "| Ghosts          |  15  |  40   |  80   |  15  |\n",
    "\n",
    "```\n",
    "</pre>\n",
    "* What is the probability that a kid dressed as a pumpkin gets 20 or more pieces of candy? How about if he dresses as a ghost?\n",
    "* What is the probability that a kid obtains less than 10 pieces of candy?\n",
    "* What is the probability that two siblings, one dressed as a ghost and one dressed as a pumpkin,\n",
    "each receive 20 to 30 pieces of candy?\n",
    "2. You toss a fair die twice. What is the probability of getting less than 3 on the first toss and an even number on the second?\n",
    "Some links: http://bit.ly/2jmalpl"
   ]
  },
  {
   "cell_type": "markdown",
   "metadata": {},
   "source": [
    "#### 2.2.3 Mutually exclusive events\n",
    "Let’s consider a population from which we draw a sample of 40 individuals. The probability of your sample having no-one with glasses is 26%. The probability of having only one individual wearing glasses is 32%. What is the probability of:\n",
    "* Obtaining not more than one individual wearing glasses in a sample?\n",
    "* Obtaining more than one individual wearing glasses in a sample? \n",
    "\n",
    "*Some links: http://bit.ly/2jmjyxO*"
   ]
  },
  {
   "cell_type": "markdown",
   "metadata": {},
   "source": [
    "#### 2.2.4 Bayes’ Theorem\n",
    "1. To detect a medical condition, patients are given two tests. 25% of the patients receive positive results on both tests and 42% of the patients receive positive results on the first test. What percent of those who have positive results on the first test passed also had positive result on the second test?\n",
    "2. Extra Credit: A jar contains red and blue marbles. You draw two marbles one after the other without replacing the first marble in the jar. You know that:\n",
    "• The probability of selecting a blue marble and then a red marble is 30%.\n",
    "• The probability of selecting a red marble on the first draw is 50%.\n",
    "You first draw a red marble. What is the probability of selecting a blue marble on the second draw? Some links: http://bit.ly/2jmjHRS"
   ]
  },
  {
   "cell_type": "markdown",
   "metadata": {},
   "source": [
    "## 3. Probability Distributions\n",
    "Common problems relying on discrete (Binomial, Geometric, Poisson) or continuous (Uniform, Normal, Exponential) probability distributions.\n",
    "Here are some exercises (http://bit.ly/2j7GK25) with their solutions as video."
   ]
  },
  {
   "cell_type": "markdown",
   "metadata": {},
   "source": [
    "<dl>\n",
    "  <dt><b>Binomial distribution</b></dt>\n",
    "  <dd>1. Fair coin: Imagine you were to flip a fair coin 10 times. What would be the probability of getting 5 heads?<br>2. Unfair coin: You have a coin with which you are 2 times more likely to get heads than tails. You flip the coin 100 times. What is the probability of getting 20 tails? What is the probability of getting at least one heads?</dd><br>\n",
    "  <dt><b>Geometric distributions</b></dt>\n",
    "  <dd>Suppose you have an unfair coin, with a 68% chance of getting tails. What is the probability that the first head will be on the 3rd trial?</dd><br>\n",
    "  <dt><b>Exponential distribution</b></dt>\n",
    "  <dd>Let X, the number of years a computer works, be a random variable that follows an exponential distribution with a lambda of 3 years. You just bought a computer, what is the probability that the computer will work in 8 years?\n",
    "Extra Credit: Let X be a random variable that now follows an exponential distribution with a half-life of 6 years. Find the parameter of the exponential distribution. What is the probability P(X > 10) and the conditional probability P (X > 20|X > 10)?</dd><br>\n",
    "  <dt><b>Uniform distribution</b></dt>\n",
    "  <dd>Let the random variable X be the angle of a slice of pizza. The angle X has a uniform distribution on the interval [0, 90]. What is the probability that your slice of pizza will have an angle between 30 and 40°?\n",
    "Extra Credit: X is uniform on the interval [a,b], can you derive the expected value E(X)? The variance V(X)?</dd><br>\n",
    "  <dt><b>Normal distribution</b></dt>\n",
    "  <dd>1. Suppose X has a standard normal distribution. Compute P (X > 9), P (1 < X < 3) and P (X > ≠3).<br>2. The weight in pounds of individuals in a population of interest has a normal distribution, with a mean of 150 and a standard deviation of 40. What is the expected range of values that describe the weight of 68% of the population (Hint: use the empirical rule)? Of the people who weigh more than 170 pounds, what percent weigh more than 200 pounds (Hint: this is conditional probability)?</dd>\n",
    "</dl>"
   ]
  },
  {
   "cell_type": "markdown",
   "metadata": {},
   "source": [
    "##### Scaling\n",
    "We can convert any Normal Dist. to a Standard Normal Dist. And after that. Scale it. Scaling, meaning to convet the Standard Norm Dist. to the scale you want to measure by. For example; on a scale of 100 what is the x value for a z-score of 0.56? 0.56 = (x - 50) / 10. Where 50 is the new mean of our scale and 10 is the new standard deviation. We solve for x. 0.56 * 10 + 50 = 56\n",
    "\n",
    "Why would we want to scale or distribution? There could be many reasons. Let us look at two:\n",
    "\n",
    "Example # 1:\n",
    "\n",
    "We want to use a 1 to 10 scale to communicate the results of our data, and perhaps the data we collected does not fit this desire. If we rescale our data from Standard Normal form, we can acheive or desired 1 to 10 scale. While the data is still represented correctly.\n",
    "\n",
    "Example # 2:\n",
    "\n",
    "When a Machine Learning algorithm is doing a lot of cumputational math, we can make the task even easier for the algorithm to compute by, let's say, taking the number range we are trying to calulate from the 10's of thousands, down to a scale between zero and one. Although the computer can crunh numbers very fast, we can utilize scaling our data to make the operations even FASTER!\n",
    "\n"
   ]
  },
  {
   "cell_type": "markdown",
   "metadata": {},
   "source": [
    "##### Probability Density Function (PDF)"
   ]
  },
  {
   "cell_type": "markdown",
   "metadata": {},
   "source": [
    "## 4. Descriptive Statistics"
   ]
  },
  {
   "cell_type": "markdown",
   "metadata": {},
   "source": [
    "### 4.1 Measures of Average\n",
    "\n",
    "##### Mean, Median, and Mode\n",
    "\n",
    "Give the mean, median and mode of the following data:\n",
    "\n",
    "*[20, 45, 68, 900, 57, 45, 33, 35, 45, 22]*\n",
    "\n",
    "Do you think the mean is a good summary statistic? Why or why not?"
   ]
  },
  {
   "cell_type": "code",
   "execution_count": 112,
   "metadata": {
    "collapsed": true
   },
   "outputs": [
    {
     "name": "stdout",
     "output_type": "stream",
     "text": [
      "Answer:\n\nI believe the median would not be a good summary statistic \nas we have an outlier (900). Median, would be a better \nstatistic, otherwise, if we dropped the outlier. Mean, could be used.\n"
     ]
    },
    {
     "data": {
      "image/png": "[encoded data removed]",
      "text/plain": [
       "<matplotlib.figure.Figure at 0x10d0999e8>"
      ]
     },
     "metadata": {},
     "output_type": "display_data"
    }
   ],
   "source": [
    "import matplotlib.pyplot as plt \n",
    "\n",
    "\n",
    "data = [20, 45, 68, 900, 57, 45, 33, 35, 45, 22]\n",
    "\n",
    "plt.boxplot(data)\n",
    "print(\"\"\"Answer:\\n\n",
    "I believe the median would not be a good summary statistic \n",
    "as we have an outlier (900). Median, would be a better \n",
    "statistic, otherwise, if we dropped the outlier. Mean, could be used.\"\"\")\n",
    "plt.show()"
   ]
  },
  {
   "cell_type": "code",
   "execution_count": 111,
   "metadata": {},
   "outputs": [
    {
     "name": "stdout",
     "output_type": "stream",
     "text": [
      "This a much more acceptable place to use mean, however skewed it might be.\n"
     ]
    },
    {
     "data": {
      "image/png": "[encoded data removed]",
      "text/plain": [
       "<matplotlib.figure.Figure at 0x10d0a64a8>"
      ]
     },
     "metadata": {},
     "output_type": "display_data"
    }
   ],
   "source": [
    "data2 = [20, 45, 68, 57, 45, 33, 35, 45, 22]\n",
    "\n",
    "plt.boxplot(data2)\n",
    "print('This a much more acceptable place to use mean, however skewed it might be.')\n",
    "plt.show()"
   ]
  },
  {
   "cell_type": "markdown",
   "metadata": {},
   "source": [
    "### 4.2 Variability\n",
    "\n",
    "##### Variance, Range, and IQR\n",
    "\n",
    "Variance = Average squared deviation.\n",
    "\n",
    "Give the mean, the variance, the standard deviation, the range and the interquartile of range of the following data:\n",
    "\n",
    "*(20, 45, 68, 900, 57, 45, 33, 35, 45, 22)*"
   ]
  },
  {
   "cell_type": "code",
   "execution_count": 109,
   "metadata": {
    "collapsed": true
   },
   "outputs": [
    {
     "name": "stdout",
     "output_type": "stream",
     "text": [
      "Mean = 127.0\nVar = 73,984.0\nStD = 272.0\nIQR = 20.5\nRange = 880\n"
     ]
    }
   ],
   "source": [
    "from scipy.stats import tmean, tvar, tstd, iqr, tmax, tmin\n",
    "\n",
    "\n",
    "data = [20, 45, 68, 900, 57, 45, 33, 35, 45, 22]\n",
    "\n",
    "print('Mean = {:,}'.format(tmean(data)))\n",
    "print('Var = {:,}'.format(tvar(data)))\n",
    "print('StD = {:,}'.format(tstd(data)))\n",
    "print('IQR = {:,}'.format(iqr(data)))\n",
    "print('Range = {:,}'.format(tmax(data) - tmin(data)))"
   ]
  },
  {
   "cell_type": "markdown",
   "metadata": {},
   "source": [
    "##### Standard Deviation\n",
    "\"Square root of average squared deviations (Variance).\"\n",
    "The standard deviation is a numerical value used to indicate how widely individuals in a group vary. If individual observations vary greatly from the group mean, the standard deviation is big; and vice versa.\n",
    "\n",
    "It is important to distinguish between the standard deviation of a population and the standard deviation of a sample. They have different notation, and they are computed differently. The standard deviation of a population is denoted by σ and the standard deviation of a sample, by s.\n",
    "\n",
    "The standard deviation of a population is defined by the following formula:\n",
    "\n",
    "σ = sqrt [ Σ ( Xi - X )2 / N ]\n",
    "\n",
    "where σ is the population standard deviation, X is the population mean, Xi is the ith element from the population, and N is the number of elements in the population.\n",
    "\n",
    "The standard deviation of a sample is defined by slightly different formula:\n",
    "\n",
    "s = sqrt [ Σ ( xi - x )2 / ( n - 1 ) ]\n",
    "\n",
    "where s is the sample standard deviation, x is the sample mean, xi is the ith element from the sample, and n is the number of elements in the sample.\n",
    "\n",
    "Standard Error (SE)\n",
    "SE = sigma / sqrt(n)\n",
    "\n",
    "And finally, the standard deviation is equal to the square root of the variance.\n",
    "\n",
    "* Bessel's Correction"
   ]
  },
  {
   "cell_type": "markdown",
   "metadata": {},
   "source": [
    "### 4.3 Random Variables\n",
    "A measure of spread for a distribution of a random variable that determines the degree to which the values of a random variable differ from the expected value."
   ]
  },
  {
   "cell_type": "markdown",
   "metadata": {},
   "source": [
    "##### Discrete Random Variables\n",
    "For a discrete random variable the variance is calculated by summing the product of the square of the difference between the value of the random variable and the expected value, and the associated probability of the value of the random variable, taken over all of the values of the random variable.\n",
    "\n",
    "Give the expression of the mean and the variance for a discrete *independent* random variable X.\n",
    "\n",
    "$$\n",
    "Mean = E(X) = \\mu_x\n",
    "$$\n",
    "\n",
    "\n",
    "$$\n",
    "Variance = Var(X) = E((X - \\mu_x)^2)\n",
    "$$\n",
    "$$\n",
    "OR\n",
    "$$\n",
    "$$\n",
    "Variance = Var(X) = \\sigma_x^2\n",
    "$$ \n",
    "The square root of the variance is equal to the standard deviation.\n",
    "\n",
    "[source][https://nzmaths.co.nz/category/glossary/variance-discrete-random-variable]"
   ]
  },
  {
   "cell_type": "code",
   "execution_count": null,
   "metadata": {},
   "outputs": [],
   "source": [
    "from scipy import stats\n",
    "xk = np.arange(7)\n",
    "pk = (0.1, 0.2, 0.3, 0.1, 0.1, 0.0, 0.2)\n",
    "custm = stats.rv_discrete(name='custm', values=(xk, pk))"
   ]
  },
  {
   "cell_type": "code",
   "execution_count": null,
   "metadata": {},
   "outputs": [],
   "source": [
    ""
   ]
  },
  {
   "cell_type": "markdown",
   "metadata": {},
   "source": [
    "##### Continuous Random Variables\n",
    "Give the expression of the mean and the variance for a continuous random variable X.\n",
    "\n",
    "The equivalent quantity for a continuous random variable, not surprisingly, involves an integral rather than a sum. The mean μXμX of a continuous random variable XX with probability density function fX(x)fX(x) is\n",
    "\n",
    "μ_X=E(X)=∫∞−∞xfX(x)dx.\n",
    "μ_X=E(X)=∫−∞∞xfX(x)dx.\n",
    "\n",
    "By analogy with the discrete case, we may, and often do, restrict the integral to points where fX(x)>0fX(x)>0."
   ]
  },
  {
   "cell_type": "markdown",
   "metadata": {},
   "source": [
    "### 4.5 Standardizing\n",
    "\n",
    "##### Z-scores\n",
    "A z-score (aka, a standard score) indicates how many standard deviations an element is from the mean. A z-score can be calculated from the following formula.\n",
    "\n",
    "z = (X - μ) / σ\n",
    "\n",
    "where z is the z-score, X is the value of the element, μ is the population mean, and σ is the standard deviation."
   ]
  },
  {
   "cell_type": "markdown",
   "metadata": {},
   "source": [
    "### 4.6 Moments\n",
    "\n",
    "##### Mean, Variance, Skew, Kurtoisis (mvsk)"
   ]
  },
  {
   "cell_type": "markdown",
   "metadata": {},
   "source": [
    "## 5. Inferential Statistics"
   ]
  },
  {
   "cell_type": "markdown",
   "metadata": {},
   "source": [
    "### 5.1 Confidence intervals\n",
    "1. We are polling to get the approval rate of the president. Out of a population of 4 million, 6014 were surveyed and 3485 expressed their approval. Construct a 95% confidence interval for the approval rate of the president.\n",
    "2. The weight of a random sample of 100 individuals from a population of interest was surveyed and yielded a sample average weight of 150 pounds and sample standard deviation of 20 pounds. Construct a 95% confidence interval for the average weight of the population."
   ]
  },
  {
   "cell_type": "markdown",
   "metadata": {},
   "source": [
    "### 5.2 General hypothesis testing\n",
    "1. What is the definition of a significance level? Of a p-value?\n",
    "2. Would you use a one tailed or two tailed tests in the following cases:\n",
    "    * Investigating if women are paid less than men.\n",
    "    * Comparing the click-through rate of website when the ‘subscribe’ button is green vs. when it is\n",
    "blue.\n",
    "3. A man goes to trial. In a hypothesis testing framework, let’s define the null hypothesis as Not Guilty\n",
    "and the alternative hypothesis as Guilty.\n",
    "    * What type of error is made when the man is actually not guilty but verdict returned is guilty?\n",
    "    * What type of error is made when the man is actually guilty but verdict returned is not guilty?"
   ]
  },
  {
   "cell_type": "markdown",
   "metadata": {},
   "source": [
    "### 5.3 One sample hypothesis testing\n",
    "1. We want the test the hypothesis that at least 68% of the Canadian population (aged 18+) went to the movies at least once in the past 12 months with a significance level of 5%. We surveyed 4,000 respondents and found 3,012 did go at least once to the movies in the past 12 months. \n",
    "    * How would your conclusion compare if you only had 40 respondents, 30 of which went to the movies at least once in the past 12 months. *[Some links: http://bit.ly/2jIM1h3]*\n",
    "\n",
    "2. We want to test the hypothesis that the average weight in North America is at least 175 pounds. The mean of weights of the 100 individuals sampled is 178 pounds, with a sample standard deviation of 8 pounds. \n",
    "    * What are you conclusions? *[Some links: http://bit.ly/2jmht5d]*\n",
    "\n",
    "3. We want to investigate the claim that on average, sea turtles lay 110 eggs in a nest. Volunteers have\n",
    "gone out and counted the number of eggs in 20 nest. \n",
    "    * What do you conclude? \n",
    "  \n",
    "  *[101, 120, 154, 89, 97, 132, 126, 105, 94, 111, 98, 90, 88, 115, 99, 85, 131, 127, 116]*\n",
    "\n",
    "*[Some links: http://bit.ly/2j7KpN2]*"
   ]
  },
  {
   "cell_type": "markdown",
   "metadata": {},
   "source": [
    "### 5.4 Two sample hypothesis testing\n",
    "1. Is there a meaningful di erence between the proportion of teenagers vs that of adults that go to the movies at least once per month?\n",
    "\n",
    "Given\n",
    "   * 1000 teenagers are surveyed, 780 answer positively.\n",
    "   * 1000 adults are surveyed, 620 answer positively.\n",
    "      \n",
    "    *Some links: http://bit.ly/2j7GUXg*\n",
    "2. Is there a meaningful di erence between the average wingspan of bald eagles vs that of crowned eagles?\n",
    "    * Data for bald eagles (in ft):\n",
    "       * [7.4, 7.7, 6.0, 6.7, 8.3, 6.5, 6.9, 7.7, 7.8, 7.3, 6.9, 6.5, 6.3, 4.8, 8.0, 6.8, 5.8, 6.9, 6.3, 6.3, 6.4, 5.1, 6.9, 7.6, 5.6, 6.5, 6.7, 7.8, 6.6, 6.9, 7.0, 6.4, 7.4, 6.0, 7.0, 5.3, 5.8, 6.4, 7.1, 5.5, 7.0, 6.7, 5.8, 6.1, 7.1, 7.9, 7.7, 6.2, 5.3, 6.4, 6.9, 5.9, 7.8, 5.6, 5.0, 5.5, 6.4, 7.1, 8.6, 9.3, 6.8, 7.6, 7.2, 7.1, 5.8, 5.9, 5.1, 6.6, 6.8, 5.7, 6.3, 7.3, 6.3, 7.2, 7.7, 6.0, 7.2, 5.9, 7.2,7.0, 7.4, 6.5, 7.8, 5.9, 6.3, 6.3, 8.3, 5.9, 6.9, 7.8]\n",
    "    * Data for crowned eagles (in ft):\n",
    "       * [5.3, 5.6, 5.8, 5.3, 5.6, 4.9, 5.7, 5.4, 5.8, 5.4, 6.0, 5.4, 5.1, 5.4, 5.2, 5.7, 4.8, 5.8, 5.7, 5.1, 5.3, 5.4, 5.7, 6.6, 5.0, 5.4, 5.3, 5.5, 5.2, 5.6, 5.2, 5.9, 5.7, 5.8, 5.5, 5.2, 4.0, 5.8, 5.2, 6.2, 5.4, 4.6, 5.3, 5.8, 6.3, 4.8, 5.6, 5.4, 5.2, 5.4, 5.1, 6.0, 6.1, 5.4, 5.4, 5.3, 5.0, 6.0, 5.0, 5.8, 5.1, 5.3, 4.8, 5.6, 5.7, 6.1, 5.0, 6.4, 5.1, 4.6, 5.3, 6.0, 4.8, 5.4, 4.3, 5.4, 5.1, 4.7, 6.0, 5.5, 5.4, 5.6, 5.2, 5.8, 5.3, 4.9, 5.3, 5.5, 5.7, 4.7, 6.0, 5.6, 4.9, 5.4, 4.3, 5.5, 4.9, 5.3, 5.6, 6.0]\n",
    "    \n",
    "    *Some links: http://bit.ly/2jva7OY*"
   ]
  },
  {
   "cell_type": "markdown",
   "metadata": {},
   "source": [
    "## 6. Relationship between two quantitative variables\n",
    "*Some links: http://bit.ly/2jXyDF6, http://bit.ly/2jqXuRp, http://bit.ly/2jxlCFA*"
   ]
  },
  {
   "cell_type": "markdown",
   "metadata": {},
   "source": [
    "**6.1 Plotting**\n",
    "\n",
    "Given:\n",
    "\n",
    "*{'x': [0, 1, 2, 3, 5], 'y': [1, 2.1, 3.2, 4, 6.1]}*\n",
    "\n",
    "  * (a) Plot corresponding the scatter plot.\n",
    "  * (b) Find the least square regression line y = ax + b. Add it to your plot.\n",
    "  * (c) Estimate the value of y when x = 4.\n",
    "  *Extra Credit: Can you do these steps in Python?*\n",
    "\n"
   ]
  },
  {
   "cell_type": "markdown",
   "metadata": {},
   "source": [
    "**6.2 Regression**\n",
    "\n",
    "*{'x': [0, 1, 2, 3, 4, 7, 9, 11, 30], 'y': [2.0, 4.9, 8.0, 10.8, 13.9, 23.1, 29.0, 92.1]}*\n",
    "\n",
    "  * (a) Find the least square regression line for the given data points.\n",
    "  * (b) Plot the given points and the regression line on the same graph. "
   ]
  },
  {
   "cell_type": "markdown",
   "metadata": {},
   "source": [
    "**6.3 We have the following (x,y) points:**\n",
    "\n",
    "*[(0, 42.0), (1, -101.0), (2, 21.0), (3, -38.0), (4, 5.0), (7, 20.0), (9, 293.0), (11, 266.0), (15, 625.0), (20, 1266.0), (25, 1757.0), (30, 2844.0)]*\n",
    "  \n",
    "  * (a) Plot the data.\n",
    "  * (b) How do you think a linear model would perform? How about a 100 degree polynomial model? How would you figure out which of these models was preferable?\n",
    "  * (c) How would you model the relationship between these features?\n",
    "\n"
   ]
  },
  {
   "cell_type": "markdown",
   "metadata": {},
   "source": [
    "**6.4 Correlation**\n",
    "\n",
    "*We have a dataset that gives the height and age of a sample of people. The range of age spans from 1 to 60 years. We decide to compute the correlation coefficient to model to understand the relationship between these features.*\n",
    "\n",
    "  * (a) Do you expect the correlation coe cient to be positive or negative?\n",
    "  * (b) What are some of the limitation of this approach?"
   ]
  },
  {
   "cell_type": "code",
   "execution_count": null,
   "metadata": {},
   "outputs": [],
   "source": [
    ""
   ]
  }
 ],
 "metadata": {
  "kernelspec": {
   "display_name": "Python 2",
   "language": "python",
   "name": "python2"
  },
  "language_info": {
   "codemirror_mode": {
    "name": "ipython",
    "version": 2.0
   },
   "file_extension": ".py",
   "mimetype": "text/x-python",
   "name": "python",
   "nbconvert_exporter": "python",
   "pygments_lexer": "ipython2",
   "version": "2.7.6"
  }
 },
 "nbformat": 4,
 "nbformat_minor": 0
}