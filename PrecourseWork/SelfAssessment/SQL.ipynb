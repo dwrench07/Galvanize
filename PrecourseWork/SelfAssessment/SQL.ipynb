{
 "cells": [
  {
   "cell_type": "heading",
   "metadata": {
    "collapsed": true
   },
   "level": 1,
   "source": [
    "Getting Ready for the SQL Assessment"
   ]
  },
  {
   "cell_type": "markdown",
   "metadata": {},
   "source": [
    "You should be able to write the SQL queries that use SELECT, FROM, WHERE, CASE clauses, aggregates, and JOINs . \n",
    "\n",
    "To check your work, you can run your queries on [W3schools.com](http://bit.ly/1foSkgu)."
   ]
  },
  {
   "cell_type": "heading",
   "metadata": {},
   "level": 2,
   "source": [
    "Database Setup"
   ]
  },
  {
   "cell_type": "code",
   "execution_count": 30,
   "metadata": {},
   "outputs": [],
   "source": [
    "import sqlite3\n",
    "\n",
    "db = sqlite3.connect(':memory:')\n",
    "c = db.cursor()\n",
    "\n",
    "# Create tables\n",
    "c.execute(\"\"\"CREATE TABLE IF NOT EXISTS Flags(\n",
    "                          id            INT PRIMARY KEY NOT NULL,\n",
    "                          name          TEXT,\n",
    "                          country       TEXT,\n",
    "                          w_prop        INT,\n",
    "                          l_prop        INT,\n",
    "                          adoption_date DATE);\n",
    "                          \"\"\")\n",
    "\n",
    "c.execute(\"\"\"CREATE TABLE IF NOT EXISTS Countries(\n",
    "                        id          INT PRIMARY KEY NOT NULL,\n",
    "                        country     TEXT,\n",
    "                        capital     TEXT,\n",
    "                        continent   TEXT,\n",
    "                        FOREIGN KEY(id) REFERENCES Flags(id));\n",
    "                        \"\"\")\n",
    "db.commit()\n",
    "\n",
    "# Insert that sweet, sweet data\n",
    "c.execute(\"\"\"INSERT INTO Flags\n",
    "              VALUES (1, \"Tricolour\", \"France\", 2, 3, '1830'),\n",
    "                     (2, \"Union Jack\", \"United Kingdom\", 1, 32, '1801'),\n",
    "                     (3, \"The Star-Strangled Banner\", \"USA\", 10, 10, '1960'),\n",
    "                     (4, \"Hinomaru\", \"Japan\", 2, 3, '1999'),\n",
    "                     (5, \"NA\", \"Brazil\", 7, 10, '1992'),\n",
    "                     (6, \"Jalur Gemilang\", \"Malaysia\", 1, 2, '1963');\n",
    "                     \"\"\")\n",
    "\n",
    "c.execute(\"\"\"INSERT INTO Countries\n",
    "             VALUES (1, \"France\", \"Paris\", \"Europe\"),\n",
    "                    (2, \"Malaysia\", \"Kuala Lumpur\", \"Asia\"),\n",
    "                    (3, \"Brazil\", \"Brasilia\", \"South America\"),\n",
    "                    (4, \"United Kingdom\", \"London\", \"Europe\"),\n",
    "                    (5, \"Japan\", \"Tokyo\", \"Asia\"),\n",
    "                    (6, \"USA\", \"Washington DC\", \"North America\"),\n",
    "                    (7, \"Germany\", \"Berlin\", \"Europe\");\n",
    "                    \"\"\")\n",
    "db.commit()\n",
    "\n",
    "# query = \"\"\"SELECT Salesperson.Name\n",
    "#                      FROM Salesperson\n",
    "#                      INNER JOIN Orders\n",
    "#                      ON Salesperson.ID = Orders.salesperson_id;\"\"\"\n",
    "# # Finally, actually execute the query\n",
    "# results = c.execute(query).fetchall()\n",
    "# \n",
    "# # Show what query it is we are running to the user\n",
    "# print('SQL query to be ran: {}'.format(query))\n",
    "# \n",
    "# print('Results:')\n",
    "# print(set(results))"
   ]
  },
  {
   "cell_type": "heading",
   "metadata": {},
   "level": 2,
   "source": [
    "Our Data"
   ]
  },
  {
   "cell_type": "code",
   "execution_count": 31,
   "metadata": {},
   "outputs": [
    {
     "name": "stdout",
     "output_type": "stream",
     "text": [
      "We will be querying the following tables\n"
     ]
    }
   ],
   "source": [
    "print('We will be querying the following tables')"
   ]
  },
  {
   "cell_type": "code",
   "execution_count": 32,
   "metadata": {},
   "outputs": [
    {
     "name": "stdout",
     "output_type": "stream",
     "text": [
      "Table 1: flags - where w_prop is the width proportion and l_prop is the length proportion\nTable 2: countries\n"
     ]
    }
   ],
   "source": [
    "print('Table 1: flags - where w_prop is the width proportion and l_prop is the length proportion')\n",
    "\n",
    "print('Table 2: countries')"
   ]
  },
  {
   "cell_type": "heading",
   "metadata": {},
   "level": 2,
   "source": [
    "Queries on a Single Table"
   ]
  },
  {
   "cell_type": "markdown",
   "metadata": {},
   "source": [
    "1. Use the WHERE clause to show the countries with a flag ratio of 2:3 (i.e. w_prop = 2 and l_prop = 3).\n",
    "2. Use IN to check if an item is in a list and show the countries on a continent that is either Europe or\n",
    "North America.\n",
    "3. Use BETWEEN xxx AND xxx to show names of flags and countries that have width proportion higher than 1 but lower than 8.\n",
    "4. Use LIKE  X%  to show countries that have an name that starts with ‘U’.\n",
    "5. Use CASE to show countries, their capital and a column to indicate whether the continent is ‘Eurasia’ (i.e. Europe or Asia) or ‘Americas’ (North or South America). Add a filter to select countries with\n",
    "capitals that are at least 7 character long."
   ]
  },
  {
   "cell_type": "code",
   "execution_count": 33,
   "metadata": {},
   "outputs": [
    {
     "name": "stdout",
     "output_type": "stream",
     "text": [
      "SQL query to be ran: \nSELECT Flags.country FROM Flags WHERE w_prop = 2 AND l_prop = 3;\n\nResults:\n[('France',), ('Japan',)]\n"
     ]
    }
   ],
   "source": [
    "# 1. Use the WHERE clause to show the countries with a flag ratio of 2:3 (i.e. w_prop = 2 and l_prop = 3).\n",
    "query = \"\"\"SELECT Flags.country FROM Flags WHERE w_prop = 2 AND l_prop = 3;\"\"\"\n",
    "\n",
    "results = c.execute(query).fetchall()\n",
    "db.commit()\n",
    "print('SQL query to be ran: \\n{}'.format(query))\n",
    "\n",
    "print('\\nResults:')\n",
    "print(results)"
   ]
  },
  {
   "cell_type": "code",
   "execution_count": 35,
   "metadata": {},
   "outputs": [
    {
     "name": "stdout",
     "output_type": "stream",
     "text": [
      "SQL query to be ran: \nSELECT country FROM Countries WHERE continent IN ('Europe', 'North America');\n\nResults:\n[('France',), ('United Kingdom',), ('USA',), ('Germany',)]\n"
     ]
    }
   ],
   "source": [
    "# 2. Use IN to check if an item is in a list and show the countries on a continent, \n",
    "# that is either Europe or North America.\n",
    "query = \"\"\"SELECT country FROM Countries WHERE continent IN ('Europe', 'North America');\"\"\"\n",
    "\n",
    "results = c.execute(query).fetchall()\n",
    "db.commit()\n",
    "print('SQL query to be ran: \\n{}'.format(query))\n",
    "\n",
    "print('\\nResults:')\n",
    "print(results)"
   ]
  },
  {
   "cell_type": "code",
   "execution_count": 40,
   "metadata": {},
   "outputs": [
    {
     "name": "stdout",
     "output_type": "stream",
     "text": [
      "SQL query to be ran: \nSELECT Flags.country FROM Flags WHERE country LIKE 'U%';\n\nResults:\n[('United Kingdom',), ('USA',)]\n"
     ]
    }
   ],
   "source": [
    "# 3. Use LIKE X% to show countries that have an name that starts with ‘U’.\n",
    "query = \"\"\"SELECT Flags.country FROM Flags WHERE country LIKE 'U%';\"\"\"\n",
    "\n",
    "results = c.execute(query).fetchall()\n",
    "db.commit()\n",
    "print('SQL query to be ran: \\n{}'.format(query))\n",
    "\n",
    "print('\\nResults:')\n",
    "print(results)"
   ]
  },
  {
   "cell_type": "code",
   "execution_count": 41,
   "metadata": {},
   "outputs": [
    {
     "name": "stdout",
     "output_type": "stream",
     "text": [
      "SQL query to be ran: \nSELECT Flags.country FROM Flags WHERE country LIKE 'U%';\n\nResults:\n[('United Kingdom',), ('USA',)]\n"
     ]
    }
   ],
   "source": [
    "# 4. Use LIKE X% to show countries that have an name that starts with ‘U’.\n",
    "query = \"\"\"SELECT Flags.country FROM Flags WHERE country LIKE 'U%';\"\"\"\n",
    "\n",
    "results = c.execute(query).fetchall()\n",
    "db.commit()\n",
    "print('SQL query to be ran: \\n{}'.format(query))\n",
    "\n",
    "print('\\nResults:')\n",
    "print(results)"
   ]
  },
  {
   "cell_type": "code",
   "execution_count": 49,
   "metadata": {},
   "outputs": [
    {
     "name": "stdout",
     "output_type": "stream",
     "text": [
      "SQL query to be ran: \n\n    SELECT Countries.country, Countries.capital,\n        CASE \n            WHEN Countries.continent IN ('Europe', 'Asia') THEN 'Eurasia'\n        ELSE\n            'Americas'\n        END AS landmass\n    FROM Countries\n    WHERE LENGTH(Countries.capital) >= 7;\n    \n\nResults:\n[('Malaysia', 'Kuala Lumpur', 'Eurasia'), ('Brazil', 'Brasilia', 'Americas'), ('USA', 'Washington DC', 'Americas')]\n"
     ]
    }
   ],
   "source": [
    "# 5. Use CASE to show countries, their capital and a column to indicate whether the continent is ‘Eurasia’ \n",
    "# (i.e. Europe or Asia) or ‘Americas’ (North or South America). Add a filter to select countries with capitals that are at least 7 character long.\n",
    "query = \"\"\"\n",
    "    SELECT Countries.country, Countries.capital,\n",
    "        CASE \n",
    "            WHEN Countries.continent IN ('Europe', 'Asia') THEN 'Eurasia'\n",
    "        ELSE\n",
    "            'Americas'\n",
    "        END AS landmass\n",
    "    FROM Countries\n",
    "    WHERE LENGTH(Countries.capital) >= 7;\n",
    "    \"\"\"\n",
    "\n",
    "results = c.execute(query).fetchall()\n",
    "db.commit()\n",
    "print('SQL query to be ran: \\n{}'.format(query))\n",
    "\n",
    "print('\\nResults:')\n",
    "print(results)"
   ]
  },
  {
   "cell_type": "heading",
   "metadata": {},
   "level": 2,
   "source": [
    "Queries with Aggregates"
   ]
  },
  {
   "cell_type": "markdown",
   "metadata": {},
   "source": [
    "Aggregates include commands such as DISTINCT, COUNT, SUM, GROUP BY, HAVING, and ORDER BY. Try using these commands on the following questions!"
   ]
  },
  {
   "cell_type": "markdown",
   "metadata": {},
   "source": [
    "1. Use DISTINCT to list the continents in the countries table - each continent should appear only once.\n",
    "2. Use COUNT to see how many countries are in Europe.\n",
    "3. Use GROUP BY to count how many countries are in each continent, with continents alphabetically ordered (hint: use ORDER BY).\n",
    "4. Use HAVING to determine which continents are represented at least twice in the countries table."
   ]
  },
  {
   "cell_type": "code",
   "execution_count": 89,
   "metadata": {},
   "outputs": [
    {
     "name": "stdout",
     "output_type": "stream",
     "text": [
      "SQL query to be ran: \n\n    SELECT DISTINCT(Countries.continent)\n    FROM Countries;\n    \n\nResults:\n('Europe',)\n('Asia',)\n('South America',)\n('North America',)\n"
     ]
    }
   ],
   "source": [
    "# 1. Use DISTINCT to list the continents in the countries table - each continent should appear only once.\n",
    "query = \"\"\"\n",
    "    SELECT DISTINCT(Countries.continent)\n",
    "    FROM Countries;\n",
    "    \"\"\"\n",
    "\n",
    "results = c.execute(query).fetchall()\n",
    "db.commit()\n",
    "print('SQL query to be ran: \\n{}'.format(query))\n",
    "\n",
    "print('\\nResults:')\n",
    "for _ in results:\n",
    "    print(_)"
   ]
  },
  {
   "cell_type": "code",
   "execution_count": 90,
   "metadata": {},
   "outputs": [
    {
     "name": "stdout",
     "output_type": "stream",
     "text": [
      "SQL query to be ran: \n\n    SELECT COUNT(Countries.id)\n    FROM Countries\n    WHERE Countries.continent = 'Europe';\n    \n\nResults:\n"
     ]
    },
    {
     "data": {
      "text/plain": [
       "(3,)"
      ]
     },
     "execution_count": 90,
     "metadata": {},
     "output_type": "execute_result"
    }
   ],
   "source": [
    "# 12. Use COUNT to see how many countries are in Europe.\n",
    "query = \"\"\"\n",
    "    SELECT COUNT(Countries.id)\n",
    "    FROM Countries\n",
    "    WHERE Countries.continent = 'Europe';\n",
    "    \"\"\"\n",
    "\n",
    "results = c.execute(query).fetchone()\n",
    "db.commit()\n",
    "print('SQL query to be ran: \\n{}'.format(query))\n",
    "\n",
    "print('\\nResults:')\n",
    "results"
   ]
  },
  {
   "cell_type": "code",
   "execution_count": 91,
   "metadata": {},
   "outputs": [
    {
     "name": "stdout",
     "output_type": "stream",
     "text": [
      "SQL query to be ran: \n\n    SELECT Countries.continent, COUNT(Countries.country)\n    FROM Countries\n    GROUP BY Countries.continent\n    ORDER BY Countries.continent;\n    \n\nResults:\n('Asia', 2)\n('Europe', 3)\n('North America', 1)\n('South America', 1)\n"
     ]
    }
   ],
   "source": [
    "# 3. Use GROUP BY to count how many countries are in each continent, with continents alphabetically ordered (hint: use ORDER BY).\n",
    "query = \"\"\"\n",
    "    SELECT Countries.continent, COUNT(Countries.country)\n",
    "    FROM Countries\n",
    "    GROUP BY Countries.continent\n",
    "    ORDER BY Countries.continent;\n",
    "    \"\"\"\n",
    "\n",
    "results = c.execute(query).fetchall()\n",
    "db.commit()\n",
    "print('SQL query to be ran: \\n{}'.format(query))\n",
    "\n",
    "print('\\nResults:')\n",
    "for _ in results:\n",
    "    print(_)"
   ]
  },
  {
   "cell_type": "code",
   "execution_count": 99,
   "metadata": {},
   "outputs": [
    {
     "name": "stdout",
     "output_type": "stream",
     "text": [
      "SQL query to be ran: \n\n    SELECT COUNT(Countries.country) AS country_count, Countries.continent\n    FROM Countries\n    GROUP BY Countries.continent\n    HAVING country_count >= 2;\n    \n\nResults:\n(2, 'Asia')\n(3, 'Europe')\n"
     ]
    }
   ],
   "source": [
    "# 4. Use HAVING to determine which continents are represented at least twice in the countries table.\n",
    "query = \"\"\"\n",
    "    SELECT COUNT(Countries.country) AS country_count, Countries.continent\n",
    "    FROM Countries\n",
    "    GROUP BY Countries.continent\n",
    "    HAVING country_count >= 2;\n",
    "    \"\"\"\n",
    "\n",
    "results = c.execute(query).fetchall()\n",
    "db.commit()\n",
    "print('SQL query to be ran: \\n{}'.format(query))\n",
    "\n",
    "print('\\nResults:')\n",
    "for _ in results:\n",
    "    print(_)"
   ]
  },
  {
   "cell_type": "heading",
   "metadata": {},
   "level": 2,
   "source": [
    "Build Complex Queries on Multiple Tables"
   ]
  },
  {
   "cell_type": "markdown",
   "metadata": {},
   "source": [
    "1. Use JOIN to display the capital, the country, and the flag name.\n",
    "2. Use JOIN and WHERE to display the continents associated to the flags in the flags table when the flag\n",
    "has a name (i.e. not ‘NA’).\n",
    "3. Use JOIN and HAVING to display continents that have at least 2 countries represented as well as the\n",
    "average adoption date of the flag (as avg_date)."
   ]
  },
  {
   "cell_type": "code",
   "execution_count": 103,
   "metadata": {},
   "outputs": [
    {
     "name": "stdout",
     "output_type": "stream",
     "text": [
      "SQL query to be ran: \n\n    SELECT Countries.capital, Countries.country, Flags.name\n    FROM Countries\n    INNER JOIN Flags ON Flags.id = Countries.id;\n    \n\nResults:\n('Paris', 'France', 'Tricolour')\n('Kuala Lumpur', 'Malaysia', 'Union Jack')\n('Brasilia', 'Brazil', 'The Star-Strangled Banner')\n('London', 'United Kingdom', 'Hinomaru')\n('Tokyo', 'Japan', 'NA')\n('Washington DC', 'USA', 'Jalur Gemilang')\n"
     ]
    }
   ],
   "source": [
    "# 1. Use JOIN to display the capital, the country, and the flag name.\n",
    "query = \"\"\"\n",
    "    SELECT Countries.capital, Countries.country, Flags.name\n",
    "    FROM Countries\n",
    "    INNER JOIN Flags ON Flags.id = Countries.id;\n",
    "    \"\"\"\n",
    "\n",
    "results = c.execute(query).fetchall()\n",
    "db.commit()\n",
    "print('SQL query to be ran: \\n{}'.format(query))\n",
    "\n",
    "print('\\nResults:')\n",
    "for _ in results:\n",
    "    print(_)"
   ]
  },
  {
   "cell_type": "code",
   "execution_count": 111,
   "metadata": {},
   "outputs": [
    {
     "name": "stdout",
     "output_type": "stream",
     "text": [
      "SQL query to be ran: \n\n    SELECT Countries.continent, Flags.name\n    FROM Countries\n    JOIN Flags ON Flags.id = Countries.id\n    WHERE NOT Flags.name = 'NA';\n    \n\nResults:\n('Europe', 'Tricolour')\n('Asia', 'Union Jack')\n('South America', 'The Star-Strangled Banner')\n('Europe', 'Hinomaru')\n('North America', 'Jalur Gemilang')\n"
     ]
    }
   ],
   "source": [
    "# 2. Use JOIN and WHERE to display the continents associated to the flags in the flags table when the flag has a name (i.e. not ‘NA’).\n",
    "query = \"\"\"\n",
    "    SELECT Countries.continent, Flags.name\n",
    "    FROM Countries\n",
    "    JOIN Flags ON Flags.id = Countries.id\n",
    "    WHERE NOT Flags.name = 'NA';\n",
    "    \"\"\"\n",
    "\n",
    "results = c.execute(query).fetchall()\n",
    "db.commit()\n",
    "print('SQL query to be ran: \\n{}'.format(query))\n",
    "\n",
    "print('\\nResults:')\n",
    "for _ in results:\n",
    "    print(_)"
   ]
  },
  {
   "cell_type": "code",
   "execution_count": 116,
   "metadata": {},
   "outputs": [
    {
     "name": "stdout",
     "output_type": "stream",
     "text": [
      "SQL query to be ran: \n\n    SELECT Countries.continent, AVG(CAST(Flags.adoption_date as decimal)) AS \n    avg_date\n    FROM Countries\n    JOIN Flags ON Flags.id = Countries.id\n    GROUP BY Countries.continent\n    HAVING COUNT(Countries.country) >= 2;\n    \n\nResults:\n('Asia', 1896.5)\n('Europe', 1914.5)\n"
     ]
    }
   ],
   "source": [
    "# 3. Use JOIN and HAVING to display continents that have at least 2 countries represented as well as the average adoption date of the flag (as avg_date).\n",
    "query = \"\"\"\n",
    "    SELECT Countries.continent, AVG(CAST(Flags.adoption_date as decimal)) AS \n",
    "    avg_date\n",
    "    FROM Countries\n",
    "    JOIN Flags ON Flags.id = Countries.id\n",
    "    GROUP BY Countries.continent\n",
    "    HAVING COUNT(Countries.country) >= 2;\n",
    "    \"\"\"\n",
    "\n",
    "results = c.execute(query).fetchall()\n",
    "db.commit()\n",
    "print('SQL query to be ran: \\n{}'.format(query))\n",
    "\n",
    "print('\\nResults:')\n",
    "for _ in results:\n",
    "    print(_)"
   ]
  },
  {
   "cell_type": "code",
   "execution_count": null,
   "metadata": {},
   "outputs": [],
   "source": [
    ""
   ]
  }
 ],
 "metadata": {
  "kernelspec": {
   "display_name": "Python 2",
   "language": "python",
   "name": "python2"
  },
  "language_info": {
   "codemirror_mode": {
    "name": "ipython",
    "version": 2.0
   },
   "file_extension": ".py",
   "mimetype": "text/x-python",
   "name": "python",
   "nbconvert_exporter": "python",
   "pygments_lexer": "ipython2",
   "version": "2.7.6"
  }
 },
 "nbformat": 4,
 "nbformat_minor": 0
}