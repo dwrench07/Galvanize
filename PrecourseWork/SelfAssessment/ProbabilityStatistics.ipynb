{
 "cells": [
  {
   "cell_type": "markdown",
   "metadata": {
    "collapsed": true
   },
   "source": [
    "# Probability and Statistics\n",
    "Here is a small selection of exercises to make sure you know how to apply your knowledge in statistics, probability and simple regression. If you want to practice some more, or to practice on exercises with a solution, checkout the links in each section. They come from the recommended resources (Khan Academy, Udacity and the probability review)."
   ]
  },
  {
   "cell_type": "heading",
   "level": 1,
   "metadata": {},
   "source": [
    "##Counting"
   ]
  },
  {
   "cell_type": "heading",
   "level": 2,
   "metadata": {},
   "source": [
    "###Permutations "
   ]
  },
  {
   "cell_type": "markdown",
   "metadata": {},
   "source": [
    "$$ P^n_r = \\frac{n!}{n! - r!} $$"
   ]
  },
  {
   "cell_type": "markdown",
   "metadata": {},
   "source": [
    "Resources: \n",
    "  * [Interactive Mathmatics: Permutations](http://bit.ly/2iGgrir)\n",
    "  * [Khan acedemy: Permutations](http://bit.ly/2jXtFIt)"
   ]
  },
  {
   "cell_type": "code",
   "execution_count": 93,
   "metadata": {},
   "outputs": [
    {
     "name": "stdout",
     "output_type": "stream",
     "text": [
      "Q: How many ways can you arrange the numbers 1, 2, 3, 4 and 5?\n",
      "\n",
      "\tA: [1, 2, 3, 4, 5] = 120 different ways, with to arrange 5 items.\n",
      "\n",
      "Q: How many ways can you arrange 1, 1, 2, 3, 4?\n",
      "\n",
      "\tA: [1, 1, 2, 3, 4] = 24 different ways to arrange 4 unique items.\n",
      "\n",
      "Q: How many ways can you arrange two 3s and three 5s?\n",
      "\n",
      "\tA: [3, 3, 5, 5, 5] = 2 different ways to arrange 2 unique items.\n"
     ]
    }
   ],
   "source": [
    "from math import factorial\n",
    "\n",
    "\n",
    "n = [1, 2, 3, 4, 5]\n",
    "m = [1, 1, 2, 3, 4]\n",
    "k = [3, 3, 5, 5, 5]\n",
    "\n",
    "\n",
    "print('Q: How many ways can you arrange the numbers 1, 2, 3, 4 and 5?')\n",
    "print('\\n\\tA: {} = {} different ways, with to arrange {} items.'.format(n, factorial(len(n)), len(set(n))))\n",
    "\n",
    "print('\\nQ: How many ways can you arrange 1, 1, 2, 3, 4?')\n",
    "print('\\n\\tA: {} = {} different ways to arrange {} unique items.'.format(m, factorial(len(set(m))), len(set(m))))\n",
    "\n",
    "print('\\nQ: How many ways can you arrange two 3s and three 5s?')\n",
    "print('\\n\\tA: {} = {} different ways to arrange {} unique items.'.format(k, factorial(len(set(k))), len(set(k))))"
   ]
  },
  {
   "cell_type": "heading",
   "level": 2,
   "metadata": {},
   "source": [
    "###Combinations"
   ]
  },
  {
   "cell_type": "markdown",
   "metadata": {},
   "source": [
    "Resources: \n",
    "  * [Interactive Mathmatics: Combinations](http://bit.ly/2iNIXSF)\n",
    "  * [Khan Academy: Combinations](http://bit.ly/2jXlDiI)"
   ]
  },
  {
   "cell_type": "code",
   "execution_count": 42,
   "metadata": {},
   "outputs": [
    {
     "name": "stdout",
     "output_type": "stream",
     "text": [
      "Q: How many different poker hands (5 cards) can you have? A deck holds 52 cards.\n",
      "\n",
      "\tA: There are 2,598,960.0 possible 5 card hands in a 52 card deck.\n",
      "\n",
      "Q: How many three scoop ice-creams can you make if all 5 scoops must be different flavors?\n",
      "\n",
      "\tA: 10 possible 3 ice cream combination from 5 flavors.\n",
      "\n",
      "Extra Credit:\n",
      "\n",
      "Q: What happens if you can take several scoops of the same flavor?\n",
      "\n",
      "\tA: 35 possible 3 combos from 5 flavors, with replacement.\n"
     ]
    }
   ],
   "source": [
    "from scipy.misc import comb\n",
    "\n",
    "\n",
    "print('Q: How many different poker hands (5 cards) can you have? A deck holds 52 cards.')\n",
    "print('\\n\\tA: There are {:2,} possible 5 card hands in a 52 card deck.'.format(comb(52, 5)))\n",
    "\n",
    "print('\\nQ: How many three scoop ice-creams can you make if all 5 scoops must be different flavors?')\n",
    "print('\\n\\tA: {:,} possible 3 ice cream combination from 5 flavors.'.format(comb(5, 3, exact=True)))\n",
    "\n",
    "print('\\nExtra Credit:')\n",
    "print('\\nQ: What happens if you can take several scoops of the same flavor?')\n",
    "print('\\n\\tA: {:2,} possible 3 combos from 5 flavors, with replacement.'.format(comb(5, 3, exact=True, \n",
    "                                                                                     repetition=True)))"
   ]
  },
  {
   "cell_type": "heading",
   "level": 1,
   "metadata": {},
   "source": [
    "#Probability"
   ]
  },
  {
   "cell_type": "heading",
   "level": 2,
   "metadata": {},
   "source": [
    "Probability of an event"
   ]
  },
  {
   "cell_type": "markdown",
   "metadata": {},
   "source": [
    "Resources: [Definition of a Probability](http://bit.ly/2iNCwyS),\n",
    "[Probability and Poker](http://bit.ly/OtSNH2),\n",
    "[Singapore TOTO](http://bit.ly/2j7R4qF)"
   ]
  },
  {
   "cell_type": "code",
   "execution_count": 121,
   "metadata": {
    "collapsed": true
   },
   "outputs": [],
   "source": [
    "from collections import namedtuple\n",
    "\n",
    "\n",
    "Card = namedtuple(\"Card\", ['rank', 'suit'])\n",
    "\n",
    "\n",
    "class CardDeck:\n",
    "    \n",
    "    ranks = [str(n) for n in range(2, 11)] + list('JQKA') \n",
    "    suits = ['spades', 'diamonds', 'hearts', 'clubs']\n",
    "    \n",
    "    def __init__(self):\n",
    "        self._cards = [Card(rank, suit) for suit in self.suits for rank in self.ranks]\n",
    "                       \n",
    "    def __len__(self):\n",
    "        return len(self._cards)\n",
    "    \n",
    "    def __getitem__(self, position): return self._cards[position]"
   ]
  },
  {
   "cell_type": "code",
   "execution_count": 137,
   "metadata": {},
   "outputs": [
    {
     "name": "stdout",
     "output_type": "stream",
     "text": [
      "In a deck of cards (52 cards) What’s the probability of:\n",
      "\n",
      "Q: Picking a queen?\n",
      "\n",
      "\tA: 0.077 (4 of 52)\n",
      "\n",
      "Q: Picking a Heart?\n",
      "\n",
      "\tA: 0.25 (13 of 52)\n",
      "\n",
      "Q: Picking a card that’s not a queen nor a heart?\n",
      "\n",
      "\tA: 0.69 (13 Hearts + 4 Queens - 1 Queen of Hearts = (52 Cards - 16) / 52 Cards) \n"
     ]
    }
   ],
   "source": [
    "deck = CardDeck()\n",
    "card_count = len(deck)\n",
    "queens = Card(rank=\"Q\", suit=CardDeck.suits)\n",
    "hearts = Card(rank=CardDeck.ranks, suit='hearts')\n",
    "\n",
    "print('In a deck of cards (52 cards) What’s the probability of:')\n",
    "print('\\nQ: Picking a queen?')\n",
    "print('\\n\\tA: {:.2} ({} of {})'.format((4 / card_count), 4, card_count))\n",
    "print('\\nQ: Picking a Heart?')\n",
    "print('\\n\\tA: {:.2} (13 of 52)'.format((13 / card_count), len(hearts), card_count))\n",
    "print('\\nQ: Picking a card that’s not a queen nor a heart?')\n",
    "print('\\n\\tA: {:.2} (13 Hearts + 4 Queens - 1 Queen of Hearts = (52 Cards - 16) / 52 Cards) '.format(36 / card_count))"
   ]
  },
  {
   "cell_type": "markdown",
   "metadata": {},
   "source": [
    "Probability of picking not queen, nor heart:\n",
    "\n",
    "$$ P(Queen) = \\frac{4}{52}  $$\n",
    "\n",
    "$$ P(Heart) = \\frac{13}{52}  $$\n",
    "\n",
    "$$ P(A \\cup B) = \\frac{4 + 13 - 1}{52}  $$\n",
    "\n",
    "\n"
   ]
  },
  {
   "cell_type": "code",
   "execution_count": 82,
   "metadata": {},
   "outputs": [
    {
     "name": "stdout",
     "output_type": "stream",
     "text": [
      "Without Replacement:\n",
      "Picking a 2 kings: 0.45%\n",
      "Picking 4 diamonds: 0.26%\n",
      "\n",
      "With Replacement:\n",
      "Picking a 2 kings: 7.69%\n",
      "Picking 4 diamonds: 25.00%\n",
      "\n",
      "These probabilities change by adding back to the set the same probability of drawing the desired card(s).\n"
     ]
    }
   ],
   "source": [
    "kings = 4\n",
    "diamonds = 13\n",
    "\n",
    "print('Without Replacement:')\n",
    "print('Picking a 2 kings: {:.2%}'.format(comb(kings, 2) / comb(cards, 2)))\n",
    "print('Picking 4 diamonds: {:.2%}'.format(comb(diamonds, 4) / comb(cards, 4)))\n",
    "\n",
    "print('\\nWith Replacement:')\n",
    "print('Picking a 2 kings: {:.2%}'.format(kings/ cards))\n",
    "print('Picking 4 diamonds: {:.2%}'.format(diamonds / cards))\n",
    "\n",
    "print('\\nThese probabilities change by adding back to the set the same probability of drawing the desired card(s).')"
   ]
  },
  {
   "cell_type": "heading",
   "level": 2,
   "metadata": {},
   "source": [
    "Probability of 2 or more events"
   ]
  },
  {
   "cell_type": "markdown",
   "metadata": {},
   "source": [
    "$$ Conditional probability = P(A \\mid B) = \\frac{P(A \\cap B)}{P(B)} $$"
   ]
  },
  {
   "cell_type": "markdown",
   "metadata": {},
   "source": [
    "Resources: [Conditional Probability](http://bit.ly/2iGktHi)"
   ]
  },
  {
   "cell_type": "markdown",
   "metadata": {},
   "source": [
    "Conditional Probability # 1\n",
    "\n",
    "What is the probability that the total of two dice is less than four, knowing that the first die is a 2?\n",
    "\n",
    "Probabilities:\n",
    "For each number we have a 1/6th probability.\n",
    "\n",
    "If we roll a two (2) first we can only get a one (1) to be \"less than four\"."
   ]
  },
  {
   "cell_type": "markdown",
   "metadata": {},
   "source": [
    "$$ P(A \\mid B) = \\frac{P(A \\cap B)}{P(B)} $$\n",
    "\n",
    "$$ P(A \\cap B) = \\frac{1}{36} $$\n",
    "\n",
    "$$ P(B) = \\frac{1}{6} $$\n",
    "\n",
    "$$ P(A \\mid B) = \\frac{1/36}{1/6} = \\frac{6}{36} = 0.1667 $$\n"
   ]
  },
  {
   "cell_type": "code",
   "execution_count": 1,
   "metadata": {},
   "outputs": [
    {
     "ename": "NameError",
     "evalue": "name 'P' is not defined",
     "output_type": "error",
     "traceback": [
      "\u001b[0;31m---------------------------------------------------------------------------\u001b[0m",
      "\u001b[0;31mNameError\u001b[0m                                 Traceback (most recent call last)",
      "\u001b[0;32m<ipython-input-1-c4df617fadc1>\u001b[0m in \u001b[0;36m<module>\u001b[0;34m()\u001b[0m\n\u001b[1;32m     16\u001b[0m \u001b[0;34m\u001b[0m\u001b[0m\n\u001b[1;32m     17\u001b[0m \u001b[0;31m# 2\u001b[0m\u001b[0;34m\u001b[0m\u001b[0;34m\u001b[0m\u001b[0m\n\u001b[0;32m---> 18\u001b[0;31m \u001b[0mP\u001b[0m\u001b[0;34m(\u001b[0m\u001b[0mhtml\u001b[0m \u001b[0;32mor\u001b[0m \u001b[0mjs\u001b[0m\u001b[0;34m)\u001b[0m\u001b[0;34m\u001b[0m\u001b[0m\n\u001b[0m",
      "\u001b[0;31mNameError\u001b[0m: name 'P' is not defined"
     ]
    }
   ],
   "source": [
    "\"\"\" Conditional Probability # 2\n",
    "\n",
    "What is the probability that 90% of candidates to a Web developer position can code both in Javascript and HTML. \n",
    " - 70% of these candidates can code in Javascript and \n",
    " - 50% can code in HTML. \n",
    " \n",
    "What is the probability that a candidate can code in HTML knowing that he can code in Javascript?\n",
    "\"\"\"\n",
    "\n",
    "js = 0.7\n",
    "html = 0.5\n",
    "both = js * html\n",
    "\n",
    "# 1\n",
    "\n",
    "\n",
    "# 2\n",
    "P(html or js)"
   ]
  },
  {
   "cell_type": "markdown",
   "metadata": {},
   "source": [
    "$$ P(A \\mid B) = \\frac{P(A \\cap B)}{P(B)} $$\n",
    "\n",
    "$$ P(A \\cap B) = (0.5 * 0.7) = 0.35 $$\n",
    "\n",
    "$$ P(B) = 0.7 $$\n",
    "\n",
    "$$ P(A \\mid B) = \\frac{0.35}{0.7} = 0.5 $$"
   ]
  },
  {
   "cell_type": "heading",
   "level": 3,
   "metadata": {},
   "source": [
    "Independent and dependent events"
   ]
  },
  {
   "cell_type": "markdown",
   "metadata": {},
   "source": [
    "1. Number of kids dressed as pumpkins or ghosts on Halloween night and the amount of candy they received:\n",
    "\n",
    "<pre>\n",
    "| Amount of Candy | < 10 | 10-20 | 20-30 | 30 < |\n",
    "| --------------- | ---- | ----- | ----- | ---- |\n",
    "| Pumpkins        |  05  |  10   |  60   |  25  |\n",
    "| Ghosts          |  15  |  40   |  80   |  15  |\n",
    "</pre>\n",
    "\n",
    "* What is the probability that a kid dressed as a pumpkin gets 20 or more pieces of candy? How about if he dresses as a ghost?\n",
    "* What is the probability that a kid obtains less than 10 pieces of candy?\n",
    "* What is the probability that two siblings, one dressed as a ghost and one dressed as a pumpkin,\n",
    "each receive 20 to 30 pieces of candy?\n",
    "2. You toss a fair die twice. What is the probability of getting less than 3 on the first toss and an even number on the second?\n",
    "Some links: http://bit.ly/2jmalpl"
   ]
  },
  {
   "cell_type": "code",
   "execution_count": 83,
   "metadata": {
    "collapsed": true
   },
   "outputs": [
    {
     "name": "stdout",
     "output_type": "stream",
     "text": [
      "Probability that a kid gets 20 or more pieces of candy:\n",
      "Pumpkin: 0.34\n",
      "Ghost: 0.38\n",
      "\n",
      "Probability that a kid gets less than 10 pieces of candy:\n",
      "All: 0.08\n",
      "\n",
      "Probability that two siblings (a ghost and pumpkin) each receive 20 to 30 pieces of candy:\n",
      "P = 0.32\n",
      "\n",
      "Tossing a fair die twice. What is the probability of getting less than 3 on the first toss and an even number on the second?:\n",
      "P = 0.16666666666666666\n"
     ]
    }
   ],
   "source": [
    "pumpkins = 100\n",
    "ghosts = 150\n",
    "kids = pumpkins + ghosts\n",
    "\n",
    "print('Probability that a kid gets 20 or more pieces of candy:')\n",
    "print('Pumpkin: {}'.format(85 / kids))\n",
    "print('Ghost: {}'.format(95 / kids))\n",
    "\n",
    "print('\\nProbability that a kid gets less than 10 pieces of candy:')\n",
    "print('All: {}'.format(20 / kids))\n",
    "\n",
    "print('\\nProbability that two siblings (a ghost and pumpkin) each receive 20 to 30 pieces of candy:')\n",
    "print('P = {}'.format((60 / pumpkins) * (80 / ghosts)))\n",
    "\n",
    "print('\\nTossing a fair die twice. What is the probability of getting less than 3 on the first toss and an even number '\n",
    "      'on the second?:')\n",
    "print('P = {}'.format((2 / 6) * (3 / 6)))"
   ]
  },
  {
   "cell_type": "markdown",
   "metadata": {},
   "source": [
    "#### 2.2.3 Mutually exclusive events\n",
    "Two or more events are said to be mutually exclusive if the occurrence of any one of them means the others will not occur (That is, we cannot have 2 or more such events occurring at the same time).\n",
    "\n",
    ">For example, if we throw a 6-sided die, the events \"4\" and \"5\" are mutually exclusive. We cannot get both 4 and 5 at the same time when we throw one die.\n",
    "\n",
    "When two events (call them \"A\" and \"B\") are Mutually Exclusive it is impossible for them to happen together:\n",
    "\n",
    ">\"The probability of A and B together equals 0 (impossible)\"\n",
    "    \n",
    "But the probability of A or B is the sum of the individual probabilities:\n",
    "\n",
    ">\"The probability of A or B equals the probability of A plus the probability of B\"\n",
    "\n",
    "Resources: [Mutually Exclusive Events](http://bit.ly/2jmjyxO)"
   ]
  },
  {
   "cell_type": "markdown",
   "metadata": {},
   "source": [
    "Let’s consider a population from which we draw a sample of 40 individuals. \n",
    "\n",
    ">The probability of your sample having no-one with glasses is 26%. \n",
    "\n",
    ">The probability of having only one individual wearing glasses is 32%. \n",
    "\n",
    "What is the probability of:\n",
    "   * Obtaining not more than one individual wearing glasses in a sample? (**mutually exclusive**)\n",
    "\n",
    "$$ P(A \\cup B) = P(A) + P(B) $$\n",
    "\n",
    "$$ P(A \\cup B) = 0.26 + 0.32 $$\n",
    "\n",
    "$$ P(A \\cup B) = 0.58 $$\n",
    "\n",
    "   * Obtaining more than one individual wearing glasses in a sample? (**NOT mutually exclusive**)\n",
    "\n",
    "$$ P(A \\cup B) = P(A) + P(B) − P(A \\cap B) $$\n",
    "\n",
    "$$ P(> 1) = 1 − 0.58 $$\n",
    "\n",
    "$$ P(> 1) = 0.42 $$\n"
   ]
  },
  {
   "cell_type": "heading",
   "level": 2,
   "metadata": {},
   "source": [
    "Bayes’ Theorem"
   ]
  },
  {
   "cell_type": "markdown",
   "metadata": {},
   "source": [
    "In probability theory and statistics, Bayes’ theorem (alternatively Bayes’ law or Bayes' rule) describes the probability of an event, based on prior knowledge of conditions that might be related to the event. \n",
    "\n",
    "For example: \n",
    "\n",
    ">*If cancer is related to age, then, using Bayes’ theorem, a person’s age can be used to more accurately assess the probability that they have cancer, compared to the assessment of the probability of cancer made without knowledge of the person's age.*\n",
    "\n",
    "One of the many applications of Bayes’ theorem is Bayesian inference, a particular approach to statistical inference. When applied, the probabilities involved in Bayes’ theorem may have different probability interpretations. With the Bayesian probability interpretation the theorem expresses how a subjective degree of belief should rationally change to account for availability of related evidence. Bayesian inference is fundamental to Bayesian statistics.\n",
    "\n",
    "$$ P(A \\mid B) = \\frac{P(B \\mid A) \\, P(A)}{P(B)} $$\n",
    "\n",
    "$$ P(A) = prior $$\n",
    "\n",
    "$$ P(A \\mid B) = posterior $$\n",
    "\n",
    "$$ P(B \\mid A) =  liklihood $$\n",
    "\n",
    "$$ P(B) = marginal-likelihood $$\n",
    "\n",
    "\n",
    "[Bayes' Theorem Visualized](https://en.wikipedia.org/wiki/Bayes%27_theorem#/media/File:Bayes%27_Theorem_2D.svg)\n",
    "\n",
    "Some links: http://bit.ly/2jmjHRS"
   ]
  },
  {
   "cell_type": "heading",
   "level": 3,
   "metadata": {},
   "source": [
    "**Bayes’ Theorem Question # 1**"
   ]
  },
  {
   "cell_type": "markdown",
   "metadata": {},
   "source": [
    "To detect a medical condition, patients are given two tests:\n",
    "   * 25% of the patients receive positive results on both tests and, (joint proba)\n",
    "   * 42% of the patients receive positive results on the first test. (prior)\n",
    "\n",
    "What percent of those who have positive results on the first test passed, having also positive result on the second test?\n",
    "\n",
    "$$ P(A \\mid B) = \\frac{P(B \\mid A) \\, P(A)}{P(B)} $$\n",
    "\n",
    "$$ P(B \\mid A) \\, P(A) = joint = 0.25 $$\n",
    "\n",
    "$$ \\frac{P(B \\mid A) \\, P(A)}{P(B)}  = posterior $$\n",
    "\n",
    "$$ P(B) = marginal = 0.25 + 0.42 = 0.67 $$\n",
    "\n",
    "$$ P(A \\mid B) = \\frac{0.25}{0.25 + 0.42} $$\n",
    "\n",
    "$$ P(A \\mid B) = 0.37 $$"
   ]
  },
  {
   "cell_type": "heading",
   "level": 3,
   "metadata": {},
   "source": [
    "**Bayes’ Theorem Question Extra Credit**"
   ]
  },
  {
   "cell_type": "markdown",
   "metadata": {},
   "source": [
    "A jar contains red and blue marbles. You draw two marbles one after the other without replacing the first marble in the jar. \n",
    "\n",
    "$$ P(A \\mid B) = \\frac{P(B \\mid A) \\, P(A)}{P(B)} $$\n",
    "\n",
    "You know that:\n",
    "    - The probability of selecting a blue marble and then a red marble is 30%.\n",
    "\n",
    "$$ P(A \\mid B) = \\frac{0.30}{P(B)} $$\n",
    "\n",
    "    - The probability of selecting a red marble on the first draw is 50%."
   ]
  },
  {
   "cell_type": "markdown",
   "metadata": {},
   "source": [
    "## 3. Probability Distributions\n",
    "Common problems relying on discrete (Binomial, Geometric, Poisson) or continuous (Uniform, Normal, Exponential) probability distributions.\n",
    "Here are some exercises (http://bit.ly/2j7GK25) with their solutions as video."
   ]
  },
  {
   "cell_type": "markdown",
   "metadata": {},
   "source": [
    "<dl>\n",
    "  <dt><b>Binomial distribution</b></dt>\n",
    "  <dd>1. Fair coin: Imagine you were to flip a fair coin 10 times. What would be the probability of getting 5 heads?<br>2. Unfair coin: You have a coin with which you are 2 times more likely to get heads than tails. You flip the coin 100 times. What is the probability of getting 20 tails? What is the probability of getting at least one heads?</dd><br>\n",
    "  <dt><b>Geometric distributions</b></dt>\n",
    "  <dd>Suppose you have an unfair coin, with a 68% chance of getting tails. What is the probability that the first head will be on the 3rd trial?</dd><br>\n",
    "  <dt><b>Exponential distribution</b></dt>\n",
    "  <dd>Let X, the number of years a computer works, be a random variable that follows an exponential distribution with a lambda of 3 years. You just bought a computer, what is the probability that the computer will work in 8 years?\n",
    "Extra Credit: Let X be a random variable that now follows an exponential distribution with a half-life of 6 years. Find the parameter of the exponential distribution. What is the probability P(X > 10) and the conditional probability P (X > 20|X > 10)?</dd><br>\n",
    "  <dt><b>Uniform distribution</b></dt>\n",
    "  <dd>Let the random variable X be the angle of a slice of pizza. The angle X has a uniform distribution on the interval [0, 90]. What is the probability that your slice of pizza will have an angle between 30 and 40°?\n",
    "Extra Credit: X is uniform on the interval [a,b], can you derive the expected value E(X)? The variance V(X)?</dd><br>\n",
    "  <dt><b>Normal distribution</b></dt>\n",
    "  <dd>1. Suppose X has a standard normal distribution. Compute P (X > 9), P (1 < X < 3) and P (X > ≠3).<br>2. The weight in pounds of individuals in a population of interest has a normal distribution, with a mean of 150 and a standard deviation of 40. What is the expected range of values that describe the weight of 68% of the population (Hint: use the empirical rule)? Of the people who weigh more than 170 pounds, what percent weigh more than 200 pounds (Hint: this is conditional probability)?</dd>\n",
    "</dl>\n",
    "\n",
    "Binomial theorem\n",
    "----------------\n",
    "$$ (x+y)^n = \\sum_{k=0}^n {n \\choose k} x^{n - k} y^k $$\n",
    "\n",
    "Exponential function\n",
    "--------------------\n",
    "$$ e^x = \\lim_{n \\to \\infty} \\left( 1+ \\frac{x}{n} \\right)^n $$"
   ]
  },
  {
   "cell_type": "markdown",
   "metadata": {},
   "source": [
    "##### Scaling\n",
    "We can convert any Normal Dist. to a Standard Normal Dist. And after that. Scale it. Scaling, meaning to convet the Standard Norm Dist. to the scale you want to measure by. For example; on a scale of 100 what is the x value for a z-score of 0.56? 0.56 = (x - 50) / 10. Where 50 is the new mean of our scale and 10 is the new standard deviation. We solve for x. 0.56 * 10 + 50 = 56\n",
    "\n",
    "Why would we want to scale or distribution? There could be many reasons. Let us look at two:\n",
    "\n",
    "Example # 1:\n",
    "\n",
    "We want to use a 1 to 10 scale to communicate the results of our data, and perhaps the data we collected does not fit this desire. If we rescale our data from Standard Normal form, we can acheive or desired 1 to 10 scale. While the data is still represented correctly.\n",
    "\n",
    "Example # 2:\n",
    "\n",
    "When a Machine Learning algorithm is doing a lot of cumputational math, we can make the task even easier for the algorithm to compute by, let's say, taking the number range we are trying to calulate from the 10's of thousands, down to a scale between zero and one. Although the computer can crunh numbers very fast, we can utilize scaling our data to make the operations even FASTER!\n",
    "\n"
   ]
  },
  {
   "cell_type": "heading",
   "level": 2,
   "metadata": {},
   "source": [
    "Probability Density Function (PDF)"
   ]
  },
  {
   "cell_type": "heading",
   "level": 1,
   "metadata": {},
   "source": [
    "Descriptive Statistics"
   ]
  },
  {
   "cell_type": "heading",
   "level": 2,
   "metadata": {},
   "source": [
    "Measures of Average"
   ]
  },
  {
   "cell_type": "heading",
   "level": 3,
   "metadata": {},
   "source": [
    "Mean, Median, and Mode"
   ]
  },
  {
   "cell_type": "markdown",
   "metadata": {},
   "source": [
    "Give the mean, median and mode of the following data:\n",
    "\n",
    "*[20, 45, 68, 900, 57, 45, 33, 35, 45, 22]*\n",
    "\n",
    "Do you think the mean is a good summary statistic? Why or why not?"
   ]
  },
  {
   "cell_type": "code",
   "execution_count": null,
   "metadata": {
    "collapsed": true
   },
   "outputs": [
    {
     "name": "stdout",
     "output_type": "stream",
     "text": [
      "Answer:\n",
      "\n",
      "I believe the median would not be a good summary statistic \n",
      "as we have an outlier (900). Median, would be a better \n",
      "statistic, otherwise, if we dropped the outlier. Mean, could be used.\n"
     ]
    },
    {
     "data": {
      "image/png": "[encoded data removed]",
      "text/plain": [
       "<matplotlib.figure.Figure at 0x10d0999e8>"
      ]
     },
     "metadata": {},
     "output_type": "display_data"
    }
   ],
   "source": [
    "import matplotlib.pyplot as plt \n",
    "\n",
    "\n",
    "data = [20, 45, 68, 900, 57, 45, 33, 35, 45, 22]\n",
    "\n",
    "plt.boxplot(data)\n",
    "print(\"\"\"Answer:\\n\n",
    "I believe the median would not be a good summary statistic \n",
    "as we have an outlier (900). Median, would be a better \n",
    "statistic, otherwise, if we dropped the outlier. Mean, could be used.\"\"\")\n",
    "plt.show()"
   ]
  },
  {
   "cell_type": "code",
   "execution_count": 111,
   "metadata": {},
   "outputs": [
    {
     "name": "stdout",
     "output_type": "stream",
     "text": [
      "This a much more acceptable place to use mean, however skewed it might be.\n"
     ]
    },
    {
     "data": {
      "image/png": "[encoded data removed]",
      "text/plain": [
       "<matplotlib.figure.Figure at 0x10d0a64a8>"
      ]
     },
     "metadata": {},
     "output_type": "display_data"
    }
   ],
   "source": [
    "data2 = [20, 45, 68, 57, 45, 33, 35, 45, 22]\n",
    "\n",
    "plt.boxplot(data2)\n",
    "print('This a much more acceptable place to use mean, however skewed it might be.')\n",
    "plt.show()"
   ]
  },
  {
   "cell_type": "markdown",
   "metadata": {},
   "source": [
    "### 4.2 Variability\n",
    "\n",
    "##### Variance, Range, and IQR\n",
    "\n",
    "Variance = Average squared deviation.\n",
    "\n",
    "Give the mean, the variance, the standard deviation, the range and the interquartile of range of the following data:\n",
    "\n",
    "*(20, 45, 68, 900, 57, 45, 33, 35, 45, 22)*"
   ]
  },
  {
   "cell_type": "code",
   "execution_count": 109,
   "metadata": {},
   "outputs": [
    {
     "name": "stdout",
     "output_type": "stream",
     "text": [
      "Mean = 127.0\n",
      "Var = 73,984.0\n",
      "StD = 272.0\n",
      "IQR = 20.5\n",
      "Range = 880\n"
     ]
    }
   ],
   "source": [
    "from scipy.stats import tmean, tvar, tstd, iqr, tmax, tmin\n",
    "\n",
    "\n",
    "data = [20, 45, 68, 900, 57, 45, 33, 35, 45, 22]\n",
    "\n",
    "print('Mean = {:,}'.format(tmean(data)))\n",
    "print('Var = {:,}'.format(tvar(data)))\n",
    "print('StD = {:,}'.format(tstd(data)))\n",
    "print('IQR = {:,}'.format(iqr(data)))\n",
    "print('Range = {:,}'.format(tmax(data) - tmin(data)))"
   ]
  },
  {
   "cell_type": "markdown",
   "metadata": {},
   "source": [
    "##### Standard Deviation\n",
    "\n",
    "\"Square root of average squared deviations (Variance).\"\n",
    "The standard deviation is a numerical value used to indicate how widely individuals in a group vary. If individual observations vary greatly from the group mean, the standard deviation is big; and vice versa.\n",
    "\n",
    "It is important to distinguish between the standard deviation of a population and the standard deviation of a sample. They have different notation, and they are computed differently. The standard deviation of a population is denoted by σ and the standard deviation of a sample, by s.\n",
    "\n",
    "The standard deviation of a population is defined by the following formula:\n",
    "\n",
    "σ = sqrt [ Σ ( Xi - X )2 / N ]\n",
    "\n",
    "where σ is the population standard deviation, X is the population mean, Xi is the ith element from the population, and N is the number of elements in the population.\n",
    "\n",
    "The standard deviation of a sample is defined by slightly different formula:\n",
    "\n",
    "s = sqrt [ Σ ( xi - x )2 / ( n - 1 ) ]\n",
    "\n",
    "where s is the sample standard deviation, x is the sample mean, xi is the ith element from the sample, and n is the number of elements in the sample.\n",
    "\n",
    "Standard Error (SE)\n",
    "SE = sigma / sqrt(n)\n",
    "\n",
    "And finally, the standard deviation is equal to the square root of the variance.\n",
    "\n",
    "* Bessel's Correction"
   ]
  },
  {
   "cell_type": "markdown",
   "metadata": {},
   "source": [
    "### 4.3 Random Variables\n",
    "A measure of spread for a distribution of a random variable that determines the degree to which the values of a random variable differ from the expected value."
   ]
  },
  {
   "cell_type": "markdown",
   "metadata": {},
   "source": [
    "##### Discrete Random Variables\n",
    "For a discrete random variable the variance is calculated by summing the product of the square of the difference between the value of the random variable and the expected value, and the associated probability of the value of the random variable, taken over all of the values of the random variable.\n",
    "\n",
    "Give the expression of the mean and the variance for a discrete *independent* random variable X.\n",
    "\n",
    "$$\n",
    "Mean = E(X) = \\mu_x\n",
    "$$\n",
    "\n",
    "\n",
    "$$\n",
    "Variance = Var(X) = E((X - \\mu_x)^2)\n",
    "$$\n",
    "$$\n",
    "OR\n",
    "$$\n",
    "$$\n",
    "Variance = Var(X) = \\sigma_x^2\n",
    "$$ \n",
    "The square root of the variance is equal to the standard deviation.\n",
    "\n",
    "[source][https://nzmaths.co.nz/category/glossary/variance-discrete-random-variable]"
   ]
  },
  {
   "cell_type": "code",
   "execution_count": 13,
   "metadata": {},
   "outputs": [
    {
     "data": {
      "text/plain": [
       "<scipy.stats._distn_infrastructure.rv_sample at 0x1090f79e8>"
      ]
     },
     "execution_count": 13,
     "metadata": {},
     "output_type": "execute_result"
    }
   ],
   "source": [
    "from scipy import stats\n",
    "from numpy import arange\n",
    "\n",
    "\n",
    "xk = arange(7)\n",
    "pk = (0.1, 0.2, 0.3, 0.1, 0.1, 0.0, 0.2)\n",
    "custm = stats.rv_discrete(name='custm', values=(xk, pk))"
   ]
  },
  {
   "cell_type": "markdown",
   "metadata": {},
   "source": [
    "##### Continuous Random Variables\n",
    "Give the expression of the mean and the variance for a continuous random variable X.\n",
    "\n",
    "The equivalent quantity for a continuous random variable, not surprisingly, involves an integral rather than a sum. The mean μXμX of a continuous random variable XX with probability density function fX(x)fX(x) is\n",
    "$$\n",
    "μ_X=E(X)=∫∞−∞xfX(x)dx.\n",
    "μ_X=E(X)=∫−∞∞xfX(x)dx.\n",
    "$$\n",
    "By analogy with the discrete case, we may, and often do, restrict the integral to points where. $$ fX(x)>0fX(x)>0 $$"
   ]
  },
  {
   "cell_type": "markdown",
   "metadata": {},
   "source": [
    "### 4.5 Standardizing\n",
    "\n",
    "##### Z-scores\n",
    "A z-score (aka, a standard score) indicates how many standard deviations an element is from the mean. A z-score can be calculated from the following formula.\n",
    "\n",
    "z = (X - μ) / σ\n",
    "\n",
    "where z is the z-score, X is the value of the element, μ is the population mean, and σ is the standard deviation."
   ]
  },
  {
   "cell_type": "markdown",
   "metadata": {},
   "source": [
    "### 4.6 Moments\n",
    "\n",
    "##### Mean, Variance, Skew, Kurtoisis (mvsk)"
   ]
  },
  {
   "cell_type": "markdown",
   "metadata": {},
   "source": [
    "## 5. Inferential Statistics"
   ]
  },
  {
   "cell_type": "markdown",
   "metadata": {},
   "source": [
    "### 5.1 Confidence intervals\n",
    "1. We are polling to get the approval rate of the president. Out of a population of 4 million, 6014 were surveyed and 3485 expressed their approval. Construct a 95% confidence interval for the approval rate of the president.\n",
    "2. The weight of a random sample of 100 individuals from a population of interest was surveyed and yielded a sample average weight of 150 pounds and sample standard deviation of 20 pounds. Construct a 95% confidence interval for the average weight of the population."
   ]
  },
  {
   "cell_type": "markdown",
   "metadata": {},
   "source": [
    "### 5.2 General Hypothesis Testing\n",
    "The two ways of carrying out statistical significance test of a characteristic, drawn from the population, with respect to the test statistic, are a one-tailed test and two-tailed test.  \n",
    "**Define:**\n",
    ">Significance Level\n",
    ">>The significance level, also denoted as alpha or α, is the probability of rejecting the null hypothesis.\n",
    ">>>_Example:_\n",
    ">>>>A significance level of 0.05 indicates a 5% risk of concluding that a difference exists when there is no actual difference.\n",
    "\n",
    ">_p_ Value\n",
    ">>P-values are the probability of obtaining an effect at least as extreme as the one in your sample data, assuming the truth of the null hypothesis. When a P value is less than or equal to the significance level, you reject the null hypothesis.\n",
    "\n",
    ">One-Tailed Hypothesis Test\n",
    ">>Refers to a test of null hypothesis, in which the alternative hypothesis is articulated directionally.\n",
    ">>>Left-tailed test: When the population parameter is believed to be lower than the assumed one, the hypothesis test carried out is the left-tailed test.\n",
    "\n",
    ">>>Right-tailed test: When the population parameter is supposed to be greater than the assumed one, the statistical test conducted is a right-tailed test.\n",
    "\n",
    ">Two-Tailed Hypothesis Test\n",
    ">>However, if the alternative hypothesis is not exhibited directionally, then it is known as two-tailed test of the null hypothesis.\n",
    "\n",
    "_In the field of research and experiments, it pays to know the difference between one-tailed and two-tailed test, as they are quite commonly used in the process._\n",
    "\n",
    "**Questions:**\n",
    "1. Would you use a one tailed or two tailed tests in the following cases:\n",
    "    * Investigating if women are paid less than men.\n",
    "    * Comparing the click-through rate of website when the ‘subscribe’ button is green vs. when it is\n",
    "blue.\n",
    "2. A man goes to trial. In a hypothesis testing framework, let’s define the null hypothesis as Not Guilty\n",
    "and the alternative hypothesis as Guilty.\n",
    "    * What type of error is made when the man is actually not guilty but verdict returned is guilty?\n",
    "    * What type of error is made when the man is actually guilty but verdict returned is not guilty?"
   ]
  },
  {
   "cell_type": "markdown",
   "metadata": {},
   "source": [
    "### 5.3 One sample hypothesis testing\n",
    "1. We want the test the hypothesis that at least 68% of the Canadian population (aged 18+) went to the movies at least once in the past 12 months with a significance level of 5%. We surveyed 4,000 respondents and found 3,012 did go at least once to the movies in the past 12 months. \n",
    "    * How would your conclusion compare if you only had 40 respondents, 30 of which went to the movies at least once in the past 12 months. *[Some links: http://bit.ly/2jIM1h3]*\n",
    "\n",
    "2. We want to test the hypothesis that the average weight in North America is at least 175 pounds. The mean of weights of the 100 individuals sampled is 178 pounds, with a sample standard deviation of 8 pounds. \n",
    "    * What are you conclusions? *[Some links: http://bit.ly/2jmht5d]*\n",
    "\n",
    "3. We want to investigate the claim that on average, sea turtles lay 110 eggs in a nest. Volunteers have\n",
    "gone out and counted the number of eggs in 20 nest. \n",
    "    * What do you conclude? \n",
    "  \n",
    "  *[101, 120, 154, 89, 97, 132, 126, 105, 94, 111, 98, 90, 88, 115, 99, 85, 131, 127, 116]*\n",
    "\n",
    "*[Some links: http://bit.ly/2j7KpN2]*"
   ]
  },
  {
   "cell_type": "markdown",
   "metadata": {},
   "source": [
    "### 5.4 Two sample hypothesis testing\n",
    "1. Is there a meaningful di erence between the proportion of teenagers vs that of adults that go to the movies at least once per month?\n",
    "\n",
    "Given\n",
    "   * 1000 teenagers are surveyed, 780 answer positively.\n",
    "   * 1000 adults are surveyed, 620 answer positively.\n",
    "      \n",
    "    *Some links: http://bit.ly/2j7GUXg*\n",
    "2. Is there a meaningful di erence between the average wingspan of bald eagles vs that of crowned eagles?\n",
    "    * Data for bald eagles (in ft):\n",
    "       * [7.4, 7.7, 6.0, 6.7, 8.3, 6.5, 6.9, 7.7, 7.8, 7.3, 6.9, 6.5, 6.3, 4.8, 8.0, 6.8, 5.8, 6.9, 6.3, 6.3, 6.4, 5.1, 6.9, 7.6, 5.6, 6.5, 6.7, 7.8, 6.6, 6.9, 7.0, 6.4, 7.4, 6.0, 7.0, 5.3, 5.8, 6.4, 7.1, 5.5, 7.0, 6.7, 5.8, 6.1, 7.1, 7.9, 7.7, 6.2, 5.3, 6.4, 6.9, 5.9, 7.8, 5.6, 5.0, 5.5, 6.4, 7.1, 8.6, 9.3, 6.8, 7.6, 7.2, 7.1, 5.8, 5.9, 5.1, 6.6, 6.8, 5.7, 6.3, 7.3, 6.3, 7.2, 7.7, 6.0, 7.2, 5.9, 7.2,7.0, 7.4, 6.5, 7.8, 5.9, 6.3, 6.3, 8.3, 5.9, 6.9, 7.8]\n",
    "    * Data for crowned eagles (in ft):\n",
    "       * [5.3, 5.6, 5.8, 5.3, 5.6, 4.9, 5.7, 5.4, 5.8, 5.4, 6.0, 5.4, 5.1, 5.4, 5.2, 5.7, 4.8, 5.8, 5.7, 5.1, 5.3, 5.4, 5.7, 6.6, 5.0, 5.4, 5.3, 5.5, 5.2, 5.6, 5.2, 5.9, 5.7, 5.8, 5.5, 5.2, 4.0, 5.8, 5.2, 6.2, 5.4, 4.6, 5.3, 5.8, 6.3, 4.8, 5.6, 5.4, 5.2, 5.4, 5.1, 6.0, 6.1, 5.4, 5.4, 5.3, 5.0, 6.0, 5.0, 5.8, 5.1, 5.3, 4.8, 5.6, 5.7, 6.1, 5.0, 6.4, 5.1, 4.6, 5.3, 6.0, 4.8, 5.4, 4.3, 5.4, 5.1, 4.7, 6.0, 5.5, 5.4, 5.6, 5.2, 5.8, 5.3, 4.9, 5.3, 5.5, 5.7, 4.7, 6.0, 5.6, 4.9, 5.4, 4.3, 5.5, 4.9, 5.3, 5.6, 6.0]\n",
    "    \n",
    "    *Some links: http://bit.ly/2jva7OY*"
   ]
  },
  {
   "cell_type": "markdown",
   "metadata": {},
   "source": [
    "## 6. Relationship between two quantitative variables\n",
    "*Some links: http://bit.ly/2jXyDF6, http://bit.ly/2jqXuRp, http://bit.ly/2jxlCFA*"
   ]
  },
  {
   "cell_type": "markdown",
   "metadata": {},
   "source": [
    "**6.1 Plotting**\n",
    "\n",
    "Given:\n",
    "\n",
    "*{'x': [0, 1, 2, 3, 5], 'y': [1, 2.1, 3.2, 4, 6.1]}*\n",
    "\n",
    "  * (a) Plot corresponding the scatter plot.\n",
    "  * (b) Find the least square regression line y = ax + b. Add it to your plot.\n",
    "  * (c) Estimate the value of y when x = 4.\n",
    "\n",
    "Extra Credit: Can you do these steps in Python?\n",
    "\n"
   ]
  },
  {
   "cell_type": "code",
   "execution_count": 32,
   "metadata": {},
   "outputs": [
    {
     "data": {
      "image/png": "[encoded data removed]",
      "text/plain": [
       "<matplotlib.figure.Figure at 0x10822bef0>"
      ]
     },
     "metadata": {},
     "output_type": "display_data"
    }
   ],
   "source": [
    "# Plotting - Plot corresponding the scatter plot.\n",
    "import matplotlib.pyplot as plt\n",
    " \n",
    "\n",
    "x = [0, 1, 2, 3, 5]\n",
    "y = [1, 2.1, 3.2, 4, 6.1]\n",
    " \n",
    "plt.scatter(x, y)\n",
    "plt.xlabel('x')\n",
    "plt.ylabel('y')\n",
    "plt.show()"
   ]
  },
  {
   "cell_type": "code",
   "execution_count": null,
   "metadata": {},
   "outputs": [
    {
     "name": "stdout",
     "output_type": "stream",
     "text": [
      "R-Square Value = 0.9982063295044448\n"
     ]
    },
    {
     "data": {
      "image/png": "[encoded data removed]",
      "text/plain": [
       "<matplotlib.figure.Figure at 0x10a69d630>"
      ]
     },
     "metadata": {},
     "output_type": "display_data"
    }
   ],
   "source": [
    "# Plotting -  Find the least square regression line y = ax + b. Add it to your plot.\n",
    "from scipy.stats import linregress\n",
    "from scipy.stats import pearsonr\n",
    "\n",
    "slope, intercept, r_value, p_value, std_err = linregress(x, y)\n",
    "r_squared = r_value ** 2\n",
    "\n",
    "print('R-Square Value = {}'.format(r_squared))\n",
    "pearsonr(x, y)\n",
    "\n",
    "plt.plot(x, y, 'o')\n",
    "plt.plot(x, intercept + int(slope) * x, 'r', label='fitted line')\n",
    "plt.legend()\n",
    "plt.show()"
   ]
  },
  {
   "cell_type": "code",
   "execution_count": 54,
   "metadata": {},
   "outputs": [
    {
     "name": "stdout",
     "output_type": "stream",
     "text": [
      "Given x = 4, y is estimated to be = 5.094594594594594.\n"
     ]
    }
   ],
   "source": [
    "# Plotting - Estimate the value of y when x = 4.\n",
    "print('Given x = 4, y is estimated to be = {}.'.format(slope * 4 + intercept))"
   ]
  },
  {
   "cell_type": "markdown",
   "metadata": {},
   "source": [
    "**6.2 Regression**\n",
    "\n",
    "*{'x': [0, 1, 2, 3, 4, 7, 9, 11, 30], 'y': [2.0, 4.9, 8.0, 10.8, 13.9, 23.1, 29.0, 92.1]}*\n",
    "\n",
    "  * (a) Find the least square regression line for the given data points.\n",
    "  * (b) Plot the given points and the regression line on the same graph. "
   ]
  },
  {
   "cell_type": "code",
   "execution_count": 65,
   "metadata": {},
   "outputs": [
    {
     "ename": "TypeError",
     "evalue": "as_matrix() missing 1 required positional argument: 'self'",
     "output_type": "error",
     "traceback": [
      "\u001b[0;31m---------------------------------------------------------------------------\u001b[0m",
      "\u001b[0;31mTypeError\u001b[0m                                 Traceback (most recent call last)",
      "\u001b[0;32m<ipython-input-65-2718a580db74>\u001b[0m in \u001b[0;36m<module>\u001b[0;34m()\u001b[0m\n\u001b[1;32m      6\u001b[0m \u001b[0my\u001b[0m \u001b[0;34m=\u001b[0m \u001b[0;34m[\u001b[0m\u001b[0;36m2.0\u001b[0m\u001b[0;34m,\u001b[0m \u001b[0;36m4.9\u001b[0m\u001b[0;34m,\u001b[0m \u001b[0;36m8.0\u001b[0m\u001b[0;34m,\u001b[0m \u001b[0;36m10.8\u001b[0m\u001b[0;34m,\u001b[0m \u001b[0;36m13.9\u001b[0m\u001b[0;34m,\u001b[0m \u001b[0;36m23.1\u001b[0m\u001b[0;34m,\u001b[0m \u001b[0;36m29.0\u001b[0m\u001b[0;34m,\u001b[0m \u001b[0;36m92.1\u001b[0m\u001b[0;34m]\u001b[0m\u001b[0;34m\u001b[0m\u001b[0m\n\u001b[1;32m      7\u001b[0m \u001b[0;34m\u001b[0m\u001b[0m\n\u001b[0;32m----> 8\u001b[0;31m \u001b[0mdf\u001b[0m \u001b[0;34m=\u001b[0m \u001b[0mpandas\u001b[0m\u001b[0;34m.\u001b[0m\u001b[0mDataFrame\u001b[0m\u001b[0;34m.\u001b[0m\u001b[0mas_matrix\u001b[0m\u001b[0;34m(\u001b[0m\u001b[0mcolumns\u001b[0m\u001b[0;34m=\u001b[0m\u001b[0;34m[\u001b[0m\u001b[0;34m'x'\u001b[0m\u001b[0;34m,\u001b[0m \u001b[0;34m'y'\u001b[0m\u001b[0;34m]\u001b[0m\u001b[0;34m)\u001b[0m\u001b[0;34m\u001b[0m\u001b[0m\n\u001b[0m\u001b[1;32m      9\u001b[0m \u001b[0mdf\u001b[0m\u001b[0;34m.\u001b[0m\u001b[0mhead\u001b[0m\u001b[0;34m(\u001b[0m\u001b[0;34m)\u001b[0m\u001b[0;34m\u001b[0m\u001b[0m\n\u001b[1;32m     10\u001b[0m \u001b[0;34m\u001b[0m\u001b[0m\n",
      "\u001b[0;31mTypeError\u001b[0m: as_matrix() missing 1 required positional argument: 'self'"
     ]
    }
   ],
   "source": [
    "import pandas\n",
    "import matplotlib.pyplot as plt\n",
    "\n",
    "\n",
    "x = [0, 1, 2, 3, 4, 7, 9, 11, 30]\n",
    "y = [2.0, 4.9, 8.0, 10.8, 13.9, 23.1, 29.0, 92.1]\n",
    "\n",
    "df = pandas.DataFrame.as_matrix(columns=['x', 'y'])\n",
    "df.head()\n",
    "\n",
    "# slope, intercept, r_value, p_value, std_err = linregress(df)\n",
    "# r_squared = r_value ** 2\n",
    "# print('R-Square Value = {}'.format(r_squared))\n",
    "# \n",
    "# plt.plot(x, y, 'o')\n",
    "# plt.plot(x, intercept + int(slope) * x, 'r', label='fitted line')\n",
    "# plt.legend()\n",
    "# plt.show()"
   ]
  },
  {
   "cell_type": "markdown",
   "metadata": {},
   "source": [
    "**6.3 We have the following (x,y) points:**\n",
    "\n",
    "*[(0, 42.0), (1, -101.0), (2, 21.0), (3, -38.0), (4, 5.0), (7, 20.0), (9, 293.0), (11, 266.0), (15, 625.0), (20, 1266.0), (25, 1757.0), (30, 2844.0)]*\n",
    "  \n",
    "  * (a) Plot the data.\n",
    "  * (b) How do you think a linear model would perform? How about a 100 degree polynomial model? How would you figure out which of these models was preferable?\n",
    "  * (c) How would you model the relationship between these features?\n",
    "\n"
   ]
  },
  {
   "cell_type": "markdown",
   "metadata": {},
   "source": [
    "**6.4 Correlation**\n",
    "\n",
    "*We have a dataset that gives the height and age of a sample of people. The range of age spans from 1 to 60 years. We decide to compute the correlation coefficient to model to understand the relationship between these features.*\n",
    "\n",
    "  * (a) Do you expect the correlation coeffcient to be positive or negative?\n",
    "  * (b) What are some of the limitation of this approach?"
   ]
  },
  {
   "cell_type": "heading",
   "level": 2,
   "metadata": {},
   "source": [
    "Definitions"
   ]
  },
  {
   "cell_type": "markdown",
   "metadata": {},
   "source": [
    "**Probability**\n",
    "   * Frequentist\n",
    "\t>The probability of an outcome is the proportion of the times the outcome would occur if we observed the random process an infinite number of times. \n",
    "   * Bayesian\n",
    "\t> A subjective degree of belief. For the same event, two separate people could have different viewpoints and so assign different probabilities to it.\n",
    "\n",
    "**Random Process**\n",
    ">In a random process we know what outcomes could happen, but we don't know which particular outcome will happen.\n",
    "\n",
    "**Law of Large Numbers**\n",
    ">The law of large numbers states that as more observations are collected, the proportion of occurrences with a particular outcome converges to the probability of that outcome.\n",
    "\n",
    "**Disjoint Event (Mutually Exclusive)**\n",
    "$$P(A \\cup B) = P(A) + P(B)$$\n",
    ">Disjoint events by definition, cannot happen at the same time. A synonym for this term is mutually exclusive. \n",
    ">>_\"For example, the outcome of a single coin toss cannot be a head and a tail. A student cannot both fail and pass a class. A single card drawn from a deck cannot be an ace and a queen at the same time.\"_\n",
    "\n",
    "**Non-Disjoint Event (Mutually Inclusive)**\n",
    ">Non-disjoint events on the other hand can happen at the same time. For example, a student can get an A in Statistics and Econ at the same time.\n",
    ">**Addition Rule**\n",
    "$$P(A \\cup B) = P(A) + P(B) - P(A \\cap B)$$\n",
    "\n",
    "**Sample Space**\n",
    ">All posible outcomes of a trial.\n",
    "\n",
    "**Probability Distribution**\n",
    "> A probability distribution lists all possible outcomes and the probabilities with which they occur.\n",
    ">>**Rules**\n",
    ">1. The events listed must be disjoint. \n",
    ">2. Each probability must be between 0 and 1.\n",
    ">3. The probabilities listed in the probability distribution must total 1.\n",
    "\n",
    "**Complementary Events**\n",
    ">These are two disjoint events or two mutually exclusive events, who's probabilities add up to one (1). \n",
    ">>_For example, if a coin is toss once the complement of the head is a tail. Say a coin is toss twice the complement of the outcome head and head is simply the sum of all the other three possibilities. Tail, tail, head, tail or tail, head._\n",
    "\n",
    "**Independant Events**\n",
    "$$ P(A \\mid B) = P(A) $$\n",
    ">Two processes are said to be independent if knowing the outcome of one provides not to be useful information about the outcome of the other.\n",
    "$$ P(A \\cap B) = P(A) \\times P(B) $$"
   ]
  },
  {
   "cell_type": "code",
   "execution_count": null,
   "metadata": {
    "collapsed": true
   },
   "outputs": [],
   "source": []
  }
 ],
 "metadata": {
  "kernelspec": {
   "display_name": "Python 3",
   "language": "python",
   "name": "python3"
  },
  "language_info": {
   "codemirror_mode": {
    "name": "ipython",
    "version": 3
   },
   "file_extension": ".py",
   "mimetype": "text/x-python",
   "name": "python",
   "nbconvert_exporter": "python",
   "pygments_lexer": "ipython3",
   "version": "3.6.1"
  }
 },
 "nbformat": 4,
 "nbformat_minor": 1
}
