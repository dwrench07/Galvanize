{
 "cells": [
  {
   "cell_type": "heading",
   "metadata": {},
   "level": 1,
   "source": [
    "Data Science Self-Study Resources"
   ]
  },
  {
   "cell_type": "markdown",
   "metadata": {},
   "source": [
    "Have you been thinking about applying to Galvanize? How do you know you have enough of a technical background to be successful in our Data Science Immersive course? Find out by working through this document.\n",
    "This document was designed to help you to gauge your level of understanding in programming (both Python and SQL) and to test your proficiency in Probability and Statistics. \n",
    "\n",
    "It also references resources which will help you along the way. If you want to learn more about the Admissions process itself, you will find a full description in DSI-Admission-process.pdf."
   ]
  },
  {
   "cell_type": "heading",
   "metadata": {},
   "level": 2,
   "source": [
    "Python"
   ]
  },
  {
   "cell_type": "markdown",
   "metadata": {},
   "source": [
    "Python is an extremely popular and powerful programming language with tools to work in nearly every application area. In particular, Python (and specifically the anaconda environment that supports it) is the industry standard for machine learning. As such, comfort with Python is a must for any aspiring data scientist.\n",
    "In the Galvanize Data Science Immersive we teach data science using Python, and only briefly review python topics during the course. We therefore require that students pass a python coding interview.\n",
    "\n",
    "**How do you know you are ready?**\n",
    "\n",
    "You should be ready for the program if you are able to comfortably solve most CodeWars (http://bit.ly/2iWF0LL) Level 6-7 problems in about 30 minutes.\n",
    "\n",
    "These are our top 3 online resources. They cover similar topics, but have their own approach to teaching Python.\n",
    "<ol>\n",
    "\t<li><a href=\"http://bit.ly/2iWHUxT\">Learn Python the Hard Way</a> - A combination of explanations and exercises to apply the concepts.</li>\n",
    "\t<li><a href=\"http://bit.ly/1GO0Fx1\">Codecademy’s Python Course</a> - An online interactive coding environment that provides lot of guidance and automatic feedback.</li>\n",
    "\t<li><a href=\"#http://bit.ly/1bmXyG5\">Google’s Python course</a> - Nice resource if you like to have videos to follow along.</li>\n",
    "</ol>"
   ]
  },
  {
   "cell_type": "markdown",
   "metadata": {},
   "source": [
    "Taking the part-time Python Fundamentals workshop offered at Galvanize is a great option if you want to learn on campus. (http://bit.ly/1LBc6Ua)\n",
    "Even better, if you take the workshop and are accepted into the Galvanize Data Science program, we will credit the amount you paid for the workshop to your tuition balance.\n",
    "\n",
    "Do you need more fluency?\n",
    "Practice on coding challenge websites like CodeWars and CoderByte. Use Stackoverflow when you’re stuck. Keep practicing.\n",
    "\n",
    "Want to practice on some mock challenges? Checkout the Python section of the self assessment document and work through the Python section of the coding challenges."
   ]
  },
  {
   "cell_type": "heading",
   "metadata": {},
   "level": 2,
   "source": [
    "SQL"
   ]
  },
  {
   "cell_type": "markdown",
   "metadata": {},
   "source": [
    "SQL is a building block of many things we do. If you are familiar with programming or data analysis, learning to write basic SQL queries won’t take very long.\n",
    "\n",
    "**How do you know you are ready?**\n",
    "\n",
    "You should be familiar with SELECT, FROM, WHERE, CASE clauses and know how to use aggregates as well as JOINs!\n",
    "There are many online resources to learning SQL. Here are some recommendations: \n",
    "  1. [SQLZoo](http://bit.ly/1RAqIc6)\n",
    "  2. [Codacademy SQL](http://bit.ly/1QjodIp)\n",
    "\n",
    "Want to practice on some mock challenges? Checkout the SQL section of the coding challenges."
   ]
  },
  {
   "cell_type": "heading",
   "metadata": {},
   "level": 2,
   "source": [
    "Statistics and Probability"
   ]
  },
  {
   "cell_type": "markdown",
   "metadata": {
    "collapsed": true
   },
   "source": [
    ""
   ]
  },
  {
   "cell_type": "markdown",
   "metadata": {},
   "source": [
    "In the Galvanize Data Science Immersive, we review probability, statistics and classical regression, but then build on these topics as we learn advanced and modern machine learning methodology. It is therefore extremely important that our students be quantitatively and analytically literate, with a solid background in baseline probability and statistical theory.\n",
    "\n",
    "We evaluate technical analytical skills though a math interview focusing on probabilities, statistics and basic model building.\n",
    "\n",
    "How do you know you are ready?\n",
    "The math background we want to see will allow you to (1) comfortably solve probability problems, (2) leverage statistical distributions to solve real world problems, and (3) perform hypothesis testing. A solid understanding of basic tools for linear regression is also appreciated.\n",
    "\n",
    "Never taken a stats course?\n",
    "We recommend you take a full-length course in statistics or probability before applying. Khan Academy and Udacity provides some good “entry level statistics videos” and a good introductory course is available on Udacity. Make sure to work through the exercises and take the quizzes.\n",
    "All of these resources cover the same basic information, just in different ways and formats:\n",
    "• Udacity’s Intro to Statistics (http://bit.ly/1SnQHUx)\n",
    "• Khan Academy: Probability and Statistics (http://bit.ly/2j1QgXC)\n",
    "• Coursera, edX, and other sites also have a large number of introductory statistics classes\n",
    " 3\n",
    "Want to refresh your knowledge?\n",
    "These are areas you should focus on: • Counting\n",
    "– Permutations – Combinations\n",
    "• Probability\n",
    "– Conditional probability (Bayes’ Theorem) – Independent and dependent events\n",
    "– Mutually exclusive events\n",
    "• Probability distributions\n",
    "– Binomial – Geometric – Poisson\n",
    "– Uniform\n",
    "– Normal\n",
    "• Hypothesis testing\n",
    "– One/two sided tests\n",
    "– Confidence intervals\n",
    "– Inference for two means and inference for proportions – Chi-square tests\n",
    "• Linear Regression\n",
    "– Build simple models and evaluate model performance\n",
    "– Have idea of the bias/variance trade-off\n",
    "There are excellent exercises mentioned in the resources above. Should you wish for some additional learning material online, we would recommend this Probability Review (http://bit.ly/2i6OLb4) and these statistics videos (http://bit.ly/2iWzSap).\n",
    "Want to go further?\n",
    "To go beyond the call of duty, and make sure you are in great shape for the program, work your way through chapters 1-4 of an Introduction to Statistical Learning (http://bit.ly/1Wma81Z). You could also enroll in this Stanford online course (http://bit.ly/1IXp8Lg) or find the same material in this Introduction to Machine Learning course (http://bit.ly/2bp2YJX).\n",
    "Want to practice on some mock challenges? Checkout the math challenges of the self assessment document.\n",
    "4 - Comprehensive\n",
    "Galvanize’s Data Science Primer (http://bit.ly/1TnYbZu) is the most comprehensive source and is an excellent preparation for the program. It is a substantial packet that may take some time. However, it is a great resource for potential students."
   ]
  },
  {
   "cell_type": "code",
   "execution_count": null,
   "metadata": {},
   "outputs": [],
   "source": [
    ""
   ]
  }
 ],
 "metadata": {
  "kernelspec": {
   "display_name": "Python 2",
   "language": "python",
   "name": "python2"
  },
  "language_info": {
   "codemirror_mode": {
    "name": "ipython",
    "version": 2.0
   },
   "file_extension": ".py",
   "mimetype": "text/x-python",
   "name": "python",
   "nbconvert_exporter": "python",
   "pygments_lexer": "ipython2",
   "version": "2.7.6"
  }
 },
 "nbformat": 4,
 "nbformat_minor": 0
}