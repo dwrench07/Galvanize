{
 "cells": [
  {
   "cell_type": "markdown",
   "metadata": {
    "collapsed": true
   },
   "source": [
    "## Question 3:  \n",
    "As context, here's a 10,000-foot view of the Acme Corp product:\n",
    "\n",
    "## \n",
    "\n",
    "- A consumer posts a request for a service needed. Every request is in some category (e.g., Catering, Personal Training, Interior Design) and some location (e.g., New York, San Francisco).\n",
    "- We match the request up with appropriate service providers and send each of those providers an invite to quote on the request.\n",
    "- Providers view the invite and some choose to send a quote to the consumer expressing interest.\n",
    "\n",
    "For the following questions, please be as specific and thorough as possible in your answers, quantify your statements as much as you can, and explain your computations. Include code you used where appropriate. You're free to use any software you like; it's OK if we can't run the analysis ourselves. You're encouraged to be as technical as you like in your answers, they don't need to be accessible to general readers (though that's an important part of the actual job).\n",
    "\n",
    "### Split Test Analysis\n",
    "\n",
    "## \n",
    "\n",
    "I've just concluded a test of our quote form. After receiving an invite, service providers come to the quote form to view the consumer request and choose whether or not to pay to send a quote. My goal was to determine if certain changes to the design of the form would cause more providers to send a quote after coming to the page.\n",
    "\n",
    "Over the course of a week, I divided invites from about 3000 requests among four new variations of the quote form as well as the baseline form we've been using for the last year. Here are my results:        \n",
    "\n",
    "- Baseline: 32 quotes out of 595 viewers\n",
    "- Variation 1: 30 quotes out of 599 viewers\n",
    "- Variation 2: 18 quotes out of 622 viewers\n",
    "- Variation 3: 51 quotes out of 606 viewers\n",
    "- Variation 4: 38 quotes out of 578 viewers\n",
    "\n",
    "What's your interpretation of these results? What conclusions would you draw? What questions would you ask me about my goals and methodology? Do you have any thoughts on the experimental design? Please provide \n",
    "\n",
    "statistical justification for your conclusions and explain the choices you made in your analysis.\n",
    "\n",
    "For the sake of your analysis, you can make whatever assumptions are necessary to make the experiment valid, so long as you state them. So, for example, your response might follow the form \"I would ask you A, B and C about your goals and methodology. Assuming the answers are X, Y and Z, then here's my analysis of the results... If I were to run it again, I would consider changing...\"."
   ]
  },
  {
   "cell_type": "markdown",
   "metadata": {},
   "source": [
    "**Here is the data formatted as a CSV:**"
   ]
  },
  {
   "cell_type": "markdown",
   "metadata": {},
   "source": [
    "Bucket,Quotes,Views  \n",
    "Baseline,32,595  \n",
    "Variation 1,30,599  \n",
    "Variation 2,18,622  \n",
    "Variation 3,51,606  \n",
    "Variation 4,38,578"
   ]
  },
  {
   "cell_type": "markdown",
   "metadata": {},
   "source": [
    "#### Q: What's your interpretation of these results? \n",
    "A: My interpretation of the A/B testing is that there area varying conversion rates for quotes per variation (5.38%, 5.00%, 2.89%, 8.42%, 6.62%) respectively.\n",
    "\n",
    "#### Q: What conclusions would you draw? \n",
    "A: I would conclude nothing until answering the below questions.\n",
    "\n",
    "#### Q: What questions would you ask me about my goals and methodology? \n",
    "A: I would ask the following:\n",
    " - Are these variations statistically significant?\n",
    " - Are these all unique viewers?\n",
    " - Were the users selected randomly who received a variation of the control?\n",
    " - Are the control population and variant population comprable?\n",
    " - Why Multi-invariants were not used? \n",
    " - Were the quotes higher or lower on average per variation?\n",
    " - Was there a difference in Clicks-to-Quotes? Meaning, did some variations make it easier to fill out a quote?\n",
    " - Is one week adequate time to adjust to changes?\n",
    "\n",
    "#### Q: Do you have any thoughts on the experimental design?\n",
    "A: \n",
    " - Single-Metric design, could use more variables based on my above questions on methodology.\n",
    " - Was there any \"Change Aversion\" noticed or vocalized by the users?\n"
   ]
  },
  {
   "cell_type": "markdown",
   "metadata": {},
   "source": [
    "**Assumptions**\n",
    "\n",
    "1. Variations were presented randomly.\n",
    "2. Quotes averages were the same.\n",
    "3. Variation in form complexity and ease of use were neglegible.\n",
    "4. Viewers were unique.\n",
    "5. The quotes are independant, one quote or many quotes does not affect other viewers quoting.\n"
   ]
  },
  {
   "cell_type": "markdown",
   "metadata": {},
   "source": [
    "**Data**"
   ]
  },
  {
   "cell_type": "code",
   "execution_count": 47,
   "metadata": {},
   "outputs": [
    {
     "name": "stdout",
     "output_type": "stream",
     "text": [
      "          Quotes       Views\ncount   5.000000    5.000000\nmean   33.800000  600.000000\nstd    12.049896   16.046807\nmin    18.000000  578.000000\n25%    30.000000  595.000000\n50%    32.000000  599.000000\n75%    38.000000  606.000000\nmax    51.000000  622.000000\n"
     ]
    }
   ],
   "source": [
    "import pandas\n",
    "\n",
    "\n",
    "data = pandas.DataFrame([{'Bucket': 'Baseline',\n",
    "                          'Quotes': 32,\n",
    "                          'Views': 595},\n",
    "                         {'Bucket': 'Variation 1',\n",
    "                          'Quotes': 30,\n",
    "                          'Views': 599},\n",
    "                         {'Bucket': 'Variation 2',\n",
    "                          'Quotes': 18,\n",
    "                          'Views': 622},\n",
    "                         {'Bucket': 'Variation 3',\n",
    "                          'Quotes': 51,\n",
    "                          'Views': 606},\n",
    "                         {'Bucket': 'Variation 4',\n",
    "                          'Quotes': 38,\n",
    "                          'Views': 578},\n",
    "                         ])\n",
    "\n",
    "print(data.describe())"
   ]
  },
  {
   "cell_type": "markdown",
   "metadata": {},
   "source": [
    "**Hypothesis Testing**"
   ]
  },
  {
   "cell_type": "markdown",
   "metadata": {},
   "source": [
    "With such a relatively small difference in conversion rates (5.38%, 5.00%, 2.89%, 8.42%, 6.62%), however, can we convincingly say that the variation converts better? \n",
    "\n",
    "To test the *statistical significance* of a result like this, a hypothesis testing can be used."
   ]
  },
  {
   "cell_type": "code",
   "execution_count": 48,
   "metadata": {},
   "outputs": [
    {
     "name": "stdout",
     "output_type": "stream",
     "text": [
      "Population Quotes Mean = 33.8\nPopulation Views Mean = 600.0\n\nOriginal DataFrame:\n        Bucket  Quotes  Views\n0     Baseline      32    595\n1  Variation 1      30    599\n2  Variation 2      18    622\n3  Variation 3      51    606\n4  Variation 4      38    578\n"
     ]
    }
   ],
   "source": [
    "# Take a look at the dataframe to remind of of the dataset\n",
    "population_quotes_mean = data['Quotes'].mean()\n",
    "population_views_mean = data['Views'].mean()\n",
    "\n",
    "print('Population Quotes Mean = {}'.format(population_quotes))\n",
    "print('Population Views Mean = {}\\n'.format(population_views))\n",
    "\n",
    "print('Original DataFrame:')\n",
    "print(data)\n",
    "\n",
    "# Pull out the test by index location (.iloc[])\n",
    "control = data.iloc[0]\n",
    "variation_1 = data.iloc[1]\n",
    "variation_2 = data.iloc[2]\n",
    "variation_3 = data.iloc[3]\n",
    "variation_4 = data.iloc[4]"
   ]
  },
  {
   "cell_type": "markdown",
   "metadata": {},
   "source": [
    "First we would want to calculate the population mean and then the confidence intervals (95% in most cases). Then of each variation of the new forms, determine whether that variation of the forms p-value is greater or less than 0.05 giving us reason to accept of reject the 'Null Hypothesis' (if the sample data (variation(s)) are drawn for the same population).\n",
    "\n",
    "After determining that we can infer whether or not each variation had a statistically significant increase, or decrease in quotes compared to the baseline."
   ]
  }
 ],
 "metadata": {
  "kernelspec": {
   "display_name": "Python 2",
   "language": "python",
   "name": "python2"
  },
  "language_info": {
   "codemirror_mode": {
    "name": "ipython",
    "version": 2.0
   },
   "file_extension": ".py",
   "mimetype": "text/x-python",
   "name": "python",
   "nbconvert_exporter": "python",
   "pygments_lexer": "ipython2",
   "version": "2.7.6"
  }
 },
 "nbformat": 4,
 "nbformat_minor": 0
}